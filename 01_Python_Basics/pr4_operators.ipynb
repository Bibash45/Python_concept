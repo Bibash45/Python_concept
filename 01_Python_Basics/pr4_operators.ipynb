{
 "cells": [
  {
   "cell_type": "markdown",
   "metadata": {},
   "source": [
    "## [ Operators ]\n",
    "\n",
    "    1. Introduction to Operators\n",
    "    2. Arithmetic Operators\n",
    "        > Addition\n",
    "        > Subtraction\n",
    "        > Multiplication\n",
    "        > Division\n",
    "        > Floor Division\n",
    "        > Modulus\n",
    "        > Exponentiation\n",
    "    3. Comparison Operators\n",
    "        > Equal to\n",
    "        > Not equal to\n",
    "        > Greater than\n",
    "        > Less than\n",
    "        > Greater than or equal to\n",
    "        > Less than or equal to\n",
    "    4. Logical Operators\n",
    "        > AND\n",
    "        > OR\n",
    "        > NOT\n"
   ]
  },
  {
   "cell_type": "code",
   "execution_count": 3,
   "metadata": {},
   "outputs": [
    {
     "name": "stdout",
     "output_type": "stream",
     "text": [
      "15\n",
      "5\n",
      "50\n",
      "2.0\n",
      "2\n",
      "0\n",
      "100000\n"
     ]
    }
   ],
   "source": [
    "## Arithmetic operation\n",
    " \n",
    "a = 10\n",
    "b = 5 \n",
    "\n",
    "add=a+b  #additoin\n",
    "subtract=a-b  #subtraction\n",
    "multiplication = a * b  #multiplication\n",
    "division = a / b  #division\n",
    "floor_division = a//b  #floor division\n",
    "modulus_result = a%b #modulus operation\n",
    "exponent_result = a**b  #Exponentiation\n",
    "\n",
    "\n",
    "print(add)\n",
    "print(subtract)\n",
    "print(multiplication)\n",
    "print(division)\n",
    "print(floor_division)\n",
    "print(modulus_result)\n",
    "print(exponent_result)\n"
   ]
  },
  {
   "cell_type": "code",
   "execution_count": 4,
   "metadata": {},
   "outputs": [
    {
     "data": {
      "text/plain": [
       "2.0"
      ]
     },
     "execution_count": 4,
     "metadata": {},
     "output_type": "execute_result"
    }
   ],
   "source": [
    "10/5"
   ]
  },
  {
   "cell_type": "code",
   "execution_count": 5,
   "metadata": {},
   "outputs": [
    {
     "data": {
      "text/plain": [
       "4.2"
      ]
     },
     "execution_count": 5,
     "metadata": {},
     "output_type": "execute_result"
    }
   ],
   "source": [
    "21/5"
   ]
  },
  {
   "cell_type": "code",
   "execution_count": 9,
   "metadata": {},
   "outputs": [
    {
     "data": {
      "text/plain": [
       "2.0"
      ]
     },
     "execution_count": 9,
     "metadata": {},
     "output_type": "execute_result"
    }
   ],
   "source": [
    "#floor division\n",
    "\n",
    "10/5"
   ]
  },
  {
   "cell_type": "markdown",
   "metadata": {},
   "source": [
    " Comparison Operators "
   ]
  },
  {
   "cell_type": "code",
   "execution_count": 10,
   "metadata": {},
   "outputs": [
    {
     "data": {
      "text/plain": [
       "True"
      ]
     },
     "execution_count": 10,
     "metadata": {},
     "output_type": "execute_result"
    }
   ],
   "source": [
    "## Comparison operators\n",
    "\n",
    "## == Equal to \n",
    "\n",
    "a=10\n",
    "b=10\n",
    "\n",
    "a==b"
   ]
  },
  {
   "cell_type": "code",
   "execution_count": 13,
   "metadata": {},
   "outputs": [
    {
     "data": {
      "text/plain": [
       "False"
      ]
     },
     "execution_count": 13,
     "metadata": {},
     "output_type": "execute_result"
    }
   ],
   "source": [
    "str1=\"Dipesh\"\n",
    "str2=\"dipesh\"\n",
    "str1==str2"
   ]
  },
  {
   "cell_type": "code",
   "execution_count": 14,
   "metadata": {},
   "outputs": [
    {
     "data": {
      "text/plain": [
       "True"
      ]
     },
     "execution_count": 14,
     "metadata": {},
     "output_type": "execute_result"
    }
   ],
   "source": [
    "## != Not Equal to \n",
    "\n",
    "str3=\"Dipesh\"\n",
    "str4=\"dipesh\"\n",
    "\n",
    "str3!=str4"
   ]
  },
  {
   "cell_type": "code",
   "execution_count": 15,
   "metadata": {},
   "outputs": [
    {
     "data": {
      "text/plain": [
       "False"
      ]
     },
     "execution_count": 15,
     "metadata": {},
     "output_type": "execute_result"
    }
   ],
   "source": [
    "## greater than >\n",
    "\n",
    "num1 = 45\n",
    "num2 = 22\n",
    "\n",
    "num1<num2\n"
   ]
  },
  {
   "cell_type": "code",
   "execution_count": 16,
   "metadata": {},
   "outputs": [
    {
     "data": {
      "text/plain": [
       "True"
      ]
     },
     "execution_count": 16,
     "metadata": {},
     "output_type": "execute_result"
    }
   ],
   "source": [
    "## less than <\n",
    "\n",
    "num1>num2"
   ]
  },
  {
   "cell_type": "code",
   "execution_count": 20,
   "metadata": {},
   "outputs": [
    {
     "data": {
      "text/plain": [
       "True"
      ]
     },
     "execution_count": 20,
     "metadata": {},
     "output_type": "execute_result"
    }
   ],
   "source": [
    "## greater than or equal to\n",
    "number1 = 4\n",
    "number2 = 4\n",
    "\n",
    "number1 >= number2"
   ]
  },
  {
   "cell_type": "code",
   "execution_count": 21,
   "metadata": {},
   "outputs": [
    {
     "data": {
      "text/plain": [
       "True"
      ]
     },
     "execution_count": 21,
     "metadata": {},
     "output_type": "execute_result"
    }
   ],
   "source": [
    "## less than or equal to\n",
    "number1 = 4\n",
    "number2 = 4\n",
    "\n",
    "number1 <= number2"
   ]
  },
  {
   "cell_type": "markdown",
   "metadata": {},
   "source": [
    " Logical operators"
   ]
  },
  {
   "cell_type": "code",
   "execution_count": 25,
   "metadata": {},
   "outputs": [
    {
     "name": "stdout",
     "output_type": "stream",
     "text": [
      "False\n"
     ]
    }
   ],
   "source": [
    "##   AND  , NOT, OR\n",
    "\n",
    "X = True\n",
    "Y = True\n",
    "\n",
    "result = X and Y\n",
    "\n",
    "print(result)\n"
   ]
  },
  {
   "cell_type": "code",
   "execution_count": 26,
   "metadata": {},
   "outputs": [
    {
     "name": "stdout",
     "output_type": "stream",
     "text": [
      "False\n"
     ]
    }
   ],
   "source": [
    "##   AND  , NOT, OR\n",
    "\n",
    "X = True\n",
    "Y = False\n",
    "\n",
    "result = X and Y\n",
    "\n",
    "print(result)\n"
   ]
  },
  {
   "cell_type": "code",
   "execution_count": 31,
   "metadata": {},
   "outputs": [
    {
     "name": "stdout",
     "output_type": "stream",
     "text": [
      "True\n",
      "False\n"
     ]
    }
   ],
   "source": [
    "## OR\n",
    "\n",
    "X = True\n",
    "Y = False\n",
    "result=(X or Y)\n",
    "print(result)\n",
    "\n",
    "\n",
    "\n",
    "P = False\n",
    "Q= False\n",
    "print(P or Q)\n",
    "\n",
    "\n",
    "  "
   ]
  },
  {
   "cell_type": "code",
   "execution_count": 33,
   "metadata": {},
   "outputs": [
    {
     "name": "stdout",
     "output_type": "stream",
     "text": [
      "False\n"
     ]
    }
   ],
   "source": [
    "# Not operator \n",
    "\n",
    "X = True\n",
    "print(not X)"
   ]
  },
  {
   "cell_type": "code",
   "execution_count": 39,
   "metadata": {},
   "outputs": [
    {
     "name": "stdout",
     "output_type": "stream",
     "text": [
      "Addition: 12.0\n",
      "Subtraction: 4.0\n",
      "Multiplication: 32.0\n",
      "Division: 2.0\n",
      "Floor Division: 2.0\n",
      "Exponentation: 4096.0\n"
     ]
    }
   ],
   "source": [
    "## simple calculator\n",
    "\n",
    "num1 = float(input(\"Enter first number:\"))\n",
    "num2 = float(input(\"Enter second number:\"))\n",
    "\n",
    "#arithmetic operation\n",
    "print(\"Addition:\",num1+num2)\n",
    "print(\"Subtraction:\",num1-num2)\n",
    "print(\"Multiplication:\",num1*num2)\n",
    "print(\"Division:\",num1/num2)\n",
    "print(\"Floor Division:\",num1 // num2)\n",
    "print(\"Exponentation:\",num1**num2)\n"
   ]
  },
  {
   "cell_type": "code",
   "execution_count": null,
   "metadata": {},
   "outputs": [],
   "source": []
  }
 ],
 "metadata": {
  "kernelspec": {
   "display_name": "venv",
   "language": "python",
   "name": "python3"
  },
  "language_info": {
   "codemirror_mode": {
    "name": "ipython",
    "version": 3
   },
   "file_extension": ".py",
   "mimetype": "text/x-python",
   "name": "python",
   "nbconvert_exporter": "python",
   "pygments_lexer": "ipython3",
   "version": "3.12.0"
  }
 },
 "nbformat": 4,
 "nbformat_minor": 2
}
