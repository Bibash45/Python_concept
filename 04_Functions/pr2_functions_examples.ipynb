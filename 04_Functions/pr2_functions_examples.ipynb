{
 "cells": [
  {
   "cell_type": "markdown",
   "metadata": {},
   "source": [
    "\n",
    "Functions Examples\n",
    "Example 1: Temperature Conversion"
   ]
  },
  {
   "cell_type": "code",
   "execution_count": 3,
   "metadata": {},
   "outputs": [
    {
     "name": "stdout",
     "output_type": "stream",
     "text": [
      "77.0\n",
      "25.0\n"
     ]
    }
   ],
   "source": [
    "def convert_temperature(temp,unit):\n",
    "    \"\"\"This function converts temperature between Celsius and Fahrenheit\"\"\"\n",
    "    if unit=='C':\n",
    "        return temp * 9/5 + 32  ## Celsius To Fahrenheit\n",
    "    elif unit==\"F\":\n",
    "        return (temp-32)*5/9 ## Fahrenheit to celsius\n",
    "    else:\n",
    "        return None\n",
    "      \n",
    "fare= int(input(\"Enter a farenheit :\"))\n",
    "print(convert_temperature(fare,'C'))\n",
    "print(convert_temperature(77,'F'))"
   ]
  },
  {
   "cell_type": "markdown",
   "metadata": {},
   "source": [
    "example 2 : password strength checker"
   ]
  },
  {
   "cell_type": "code",
   "execution_count": 11,
   "metadata": {},
   "outputs": [
    {
     "name": "stdout",
     "output_type": "stream",
     "text": [
      "password must have at least one special character\n",
      "False\n"
     ]
    }
   ],
   "source": [
    "def is_strong_password(password):\n",
    "    \"\"\"This functions checks if the password is strong or not\"\"\"\n",
    "    if len(password)<8:\n",
    "        print(\"password must be 8 digits\")\n",
    "        return False\n",
    "    if not any(char.isdigit() for char in password):\n",
    "        print(\"password must have at least one digit\")\n",
    "        return False\n",
    "    if not any(char.islower() for char in password):\n",
    "        print(\"password must have at least one lowercase letter\")\n",
    "        return False\n",
    "    if not any(char.isupper() for char in password):\n",
    "        print(\"password must have at least one uppercase letter\")\n",
    "        return False\n",
    "    if not any(char in \"!@#$%^&*()_+-=\" for char in password):\n",
    "        print(\"password must have at least one special character\")\n",
    "        return False\n",
    "    return True\n",
    "    \n",
    "## calling the function\n",
    "print(is_strong_password(\"Bibash123\"))"
   ]
  },
  {
   "cell_type": "markdown",
   "metadata": {},
   "source": [
    "example : 3\n",
    "\n",
    "Calculate the total cost of items in a shopping cart\n"
   ]
  },
  {
   "cell_type": "code",
   "execution_count": 17,
   "metadata": {},
   "outputs": [
    {
     "name": "stdout",
     "output_type": "stream",
     "text": [
      "Rs.30\n"
     ]
    }
   ],
   "source": [
    "def calculate_total_cost(cart):\n",
    "    totalcost = 0\n",
    "    for item in cart:\n",
    "        totalcost += item['price']\n",
    "    return totalcost\n",
    "\n",
    "\n",
    "## example cart data\n",
    "\n",
    "cart = [\n",
    "    {'name':\"apple\",\"price\":10,\"quantity\":4},\n",
    "    {'name':\"banana\",\"price\":15,\"quantity\":3},\n",
    "    {'name':\"orange\",\"price\":5,\"quantity\":2}\n",
    "]\n",
    "\n",
    "print(f\"Rs.{calculate_total_cost(cart)}\")\n",
    "\n"
   ]
  },
  {
   "cell_type": "markdown",
   "metadata": {},
   "source": [
    "example 4: Check if a string is palindrome\n"
   ]
  },
  {
   "cell_type": "code",
   "execution_count": 34,
   "metadata": {},
   "outputs": [
    {
     "name": "stdout",
     "output_type": "stream",
     "text": [
      "True\n",
      "False\n"
     ]
    }
   ],
   "source": [
    "def is_palindrome(words):\n",
    "    \"\"\"Check if a list of words is a palindrome.\"\"\"\n",
    "    words = words.lower().replace(\" \",\"\")\n",
    "    return words == words[::-1]\n",
    "\n",
    "## calling function\n",
    "print(is_palindrome(\"m a D am\")) \n",
    "print(is_palindrome(\"football\")) \n",
    " "
   ]
  },
  {
   "cell_type": "markdown",
   "metadata": {},
   "source": [
    "example 5: calculate the factorial of a numbers using recursion"
   ]
  },
  {
   "cell_type": "code",
   "execution_count": 35,
   "metadata": {},
   "outputs": [
    {
     "name": "stdout",
     "output_type": "stream",
     "text": [
      "120\n"
     ]
    }
   ],
   "source": [
    "def factorial(n):\n",
    "    if n == 0:\n",
    "        return 1\n",
    "    else:\n",
    "        return n * factorial(n-1)\n",
    "    \n",
    "print(factorial(5))"
   ]
  },
  {
   "cell_type": "markdown",
   "metadata": {},
   "source": [
    "example6: A function to read a file and count the frequency of each word"
   ]
  },
  {
   "cell_type": "code",
   "execution_count": 40,
   "metadata": {},
   "outputs": [
    {
     "name": "stdout",
     "output_type": "stream",
     "text": [
      "{'hello': 1, 'world': 2, 'how': 1, 'are': 1, 'you': 1, 'my': 1, 'name': 1, 'is': 1, 'bibash': 2}\n"
     ]
    }
   ],
   "source": [
    "def count_word_frequency(file_path):\n",
    "    \"\"\"This function counts the frequency of each word in a given text file.\"\"\"\n",
    "    word_count={}\n",
    "    with open(file_path,'r') as file:\n",
    "        for line in file:\n",
    "            words = line.split()\n",
    "            for word in words:\n",
    "                word = word.lower().strip('.,!?;:\"\\'')\n",
    "                word_count[word] = word_count.get(word,0)+1\n",
    "    return word_count\n",
    "\n",
    "filepath = 'sample.txt'\n",
    "print(count_word_frequency(filepath))\n"
   ]
  },
  {
   "cell_type": "markdown",
   "metadata": {},
   "source": [
    "example 7: validate email address"
   ]
  },
  {
   "cell_type": "code",
   "execution_count": 41,
   "metadata": {},
   "outputs": [
    {
     "name": "stdout",
     "output_type": "stream",
     "text": [
      "True\n",
      "False\n"
     ]
    }
   ],
   "source": [
    "import re\n",
    "\n",
    "# Email validation function\n",
    "def is_valid_email(email):\n",
    "    \"\"\"This function checks if the email is valid.\"\"\"\n",
    "    pattern = r'^[a-zA-Z0-9_.+-]+@[a-zA-Z0-9-]+\\.[a-zA-Z0-9-.]+$'\n",
    "    return re.match(pattern, email) is not None\n",
    "\n",
    "# Calling the function\n",
    "print(is_valid_email(\"test@example.com\"))  # Output: True\n",
    "print(is_valid_email(\"invalid-email\"))  # Output: False"
   ]
  }
 ],
 "metadata": {
  "kernelspec": {
   "display_name": "venv",
   "language": "python",
   "name": "python3"
  },
  "language_info": {
   "codemirror_mode": {
    "name": "ipython",
    "version": 3
   },
   "file_extension": ".py",
   "mimetype": "text/x-python",
   "name": "python",
   "nbconvert_exporter": "python",
   "pygments_lexer": "ipython3",
   "version": "3.12.0"
  }
 },
 "nbformat": 4,
 "nbformat_minor": 2
}
