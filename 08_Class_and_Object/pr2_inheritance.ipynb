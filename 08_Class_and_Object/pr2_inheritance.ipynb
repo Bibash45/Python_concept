{
 "cells": [
  {
   "cell_type": "markdown",
   "metadata": {},
   "source": [
    "Object-Oriented Programming (OOP) allows you to model real-world scenarios using classes and objects. In this lesson, you learned how to create classes and objects, define instance variables and methods, and use them to perform various operations. Understanding these concepts is fundamental to writing effective and maintainable Python code.\n"
   ]
  },
  {
   "cell_type": "markdown",
   "metadata": {},
   "source": [
    "## Inheritance \n",
    "Inheritance is a mechanism that allows one class to inherit the properties and behavior of another class. The inheriting class is called the subclass or derived class, and the class being inherited from is called\n",
    "the superclass or base class."
   ]
  },
  {
   "cell_type": "code",
   "execution_count": 6,
   "metadata": {},
   "outputs": [
    {
     "name": "stdout",
     "output_type": "stream",
     "text": [
      "A person is driving the electric car.\n",
      "A person is driving the petrol car.\n",
      "Tesla supports True\n"
     ]
    },
    {
     "ename": "AttributeError",
     "evalue": "'Car' object has no attribute 'self_driving'",
     "output_type": "error",
     "traceback": [
      "\u001b[1;31m---------------------------------------------------------------------------\u001b[0m",
      "\u001b[1;31mAttributeError\u001b[0m                            Traceback (most recent call last)",
      "Cell \u001b[1;32mIn[6], line 30\u001b[0m\n\u001b[0;32m     27\u001b[0m tesla1\u001b[38;5;241m.\u001b[39mdrive()\n\u001b[0;32m     28\u001b[0m tesla1\u001b[38;5;241m.\u001b[39mself_driving()\n\u001b[1;32m---> 30\u001b[0m \u001b[43mcar1\u001b[49m\u001b[38;5;241;43m.\u001b[39;49m\u001b[43mself_driving\u001b[49m()\n",
      "\u001b[1;31mAttributeError\u001b[0m: 'Car' object has no attribute 'self_driving'"
     ]
    }
   ],
   "source": [
    "## Inheritance (Single inheritance)\n",
    "\n",
    "## Parent class\n",
    "class Car :\n",
    "    def __init__(self,windows,doors,enginetype):\n",
    "        self.windows = windows\n",
    "        self.doors = doors\n",
    "        self.enginetype = enginetype\n",
    "        \n",
    "    def drive(self):\n",
    "        print(f\"A person is driving the {self.enginetype.lower()} car.\")\n",
    "        \n",
    "\n",
    "     \n",
    "## Child class\n",
    "class Tesla(Car):\n",
    "    def __init__(self,windows,doors,enginetype,is_selfdriving):\n",
    "        super().__init__(windows,doors,enginetype)\n",
    "        self.is_selfdriving = is_selfdriving\n",
    "    def self_driving(self):\n",
    "        print(f'Tesla supports {self.is_selfdriving}')\n",
    "        \n",
    "        \n",
    "car1 = Car(4,2,'Electric')\n",
    "car1.drive()\n",
    "\n",
    "tesla1 = Tesla(4,5,'Petrol',True)\n",
    "tesla1.drive()\n",
    "tesla1.self_driving()\n",
    "\n",
    "car1.self_driving()\n",
    "        \n",
    "           "
   ]
  },
  {
   "cell_type": "code",
   "execution_count": 16,
   "metadata": {},
   "outputs": [
    {
     "name": "stdout",
     "output_type": "stream",
     "text": [
      "Jerman is an Animal\n",
      "Jerman is an pet\n",
      "Jerman say woof\n",
      "Owner : Bibash\n"
     ]
    }
   ],
   "source": [
    " ## multiple inheritance\n",
    " ## When a class inherits from more than one base class.\n",
    " \n",
    "## Base class 1\n",
    "class Animal:\n",
    "    def __init__(self,name):\n",
    "        self.name = name\n",
    "    def speakAnimal(self):\n",
    "        print(f\"{self.name} is an Animal\")\n",
    "        \n",
    "    \n",
    "## Base class 2\n",
    "class Pet:\n",
    "    def __init__(self,name):\n",
    "        self.name = name\n",
    "    def speakPet(self):\n",
    "        print(f\"{self.name} is an pet\")\n",
    "    \n",
    "## Derived class\n",
    "class Dog(Animal,Pet):\n",
    "    def __init__(self,name,owner):\n",
    "        Animal.__init__(self,name)\n",
    "        Pet.__init__(self,name)\n",
    "        self.owner = owner\n",
    "    def sound(self):\n",
    "        return print(f\"{self.name} say woof\")\n",
    "        \n",
    "        \n",
    "## create an object\n",
    "dog = Dog('Jerman',\"Bibash\")\n",
    "dog.speakAnimal()\n",
    "dog.speakPet()\n",
    "dog.sound()\n",
    "print(f\"Owner : {dog.owner}\")\n"
   ]
  },
  {
   "cell_type": "markdown",
   "metadata": {},
   "source": [
    "Inheritance is a powerful feature in OOP that allows for code reuse and the creation of a more logical class structure. Single inheritance involves one base class, while multiple inheritance involves more than one base class. Understanding how to implement and use inheritance in Python will enable you to design more efficient and maintainable object-oriented programs."
   ]
  }
 ],
 "metadata": {
  "kernelspec": {
   "display_name": "venv",
   "language": "python",
   "name": "python3"
  },
  "language_info": {
   "codemirror_mode": {
    "name": "ipython",
    "version": 3
   },
   "file_extension": ".py",
   "mimetype": "text/x-python",
   "name": "python",
   "nbconvert_exporter": "python",
   "pygments_lexer": "ipython3",
   "version": "3.12.0"
  }
 },
 "nbformat": 4,
 "nbformat_minor": 2
}
