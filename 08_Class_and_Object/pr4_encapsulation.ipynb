{
 "cells": [
  {
   "cell_type": "markdown",
   "metadata": {},
   "source": [
    "\n",
    "Encapsulation And Abstraction\n",
    "\n",
    "Encapsulation and abstraction are two fundamental principles of Object-Oriented Programming (OOP) that help in designing robust, maintainable, and reusable code. Encapsulation involves bundling data and methods that operate on the data within a single unit, while abstraction involves hiding complex implementation details and exposing only the necessary features.\n",
    "Encapsulation\n",
    "\n",
    "Encapsulation is the concept of wrapping data (variables) and methods (functions) together as a single unit. It restricts direct access to some of the object's components, which is a means of preventing accidental interference and misuse of the data.\n"
   ]
  },
  {
   "cell_type": "code",
   "execution_count": 6,
   "metadata": {},
   "outputs": [
    {
     "name": "stdout",
     "output_type": "stream",
     "text": [
      "Krish\n"
     ]
    }
   ],
   "source": [
    "### Encapsulation with Getter and Setter Methods\n",
    "### Public, protected, private variable\n",
    "\n",
    "class Person:\n",
    "    def __init__(self, name, age):\n",
    "        self.name = name ## public variables\n",
    "        self.age = age ## public variables\n",
    "        \n",
    "def get_name(person):\n",
    "    return person.name\n",
    "\n",
    "person = Person(\"Krish\",34)\n",
    "print(get_name(person))\n"
   ]
  },
  {
   "cell_type": "code",
   "execution_count": 2,
   "metadata": {},
   "outputs": [
    {
     "data": {
      "text/plain": [
       "['_Person__age',\n",
       " '__class__',\n",
       " '__delattr__',\n",
       " '__dict__',\n",
       " '__dir__',\n",
       " '__doc__',\n",
       " '__eq__',\n",
       " '__format__',\n",
       " '__ge__',\n",
       " '__getattribute__',\n",
       " '__getstate__',\n",
       " '__gt__',\n",
       " '__hash__',\n",
       " '__init__',\n",
       " '__init_subclass__',\n",
       " '__le__',\n",
       " '__lt__',\n",
       " '__module__',\n",
       " '__ne__',\n",
       " '__new__',\n",
       " '__reduce__',\n",
       " '__reduce_ex__',\n",
       " '__repr__',\n",
       " '__setattr__',\n",
       " '__sizeof__',\n",
       " '__str__',\n",
       " '__subclasshook__',\n",
       " '__weakref__',\n",
       " 'name']"
      ]
     },
     "execution_count": 2,
     "metadata": {},
     "output_type": "execute_result"
    }
   ],
   "source": [
    "dir(person)"
   ]
  },
  {
   "cell_type": "code",
   "execution_count": 18,
   "metadata": {},
   "outputs": [
    {
     "name": "stdout",
     "output_type": "stream",
     "text": [
      "Bibash\n"
     ]
    },
    {
     "data": {
      "text/plain": [
       "['_Person__age',\n",
       " '_Person__name',\n",
       " '__class__',\n",
       " '__delattr__',\n",
       " '__dict__',\n",
       " '__dir__',\n",
       " '__doc__',\n",
       " '__eq__',\n",
       " '__format__',\n",
       " '__ge__',\n",
       " '__getattribute__',\n",
       " '__getstate__',\n",
       " '__gt__',\n",
       " '__hash__',\n",
       " '__init__',\n",
       " '__init_subclass__',\n",
       " '__le__',\n",
       " '__lt__',\n",
       " '__module__',\n",
       " '__ne__',\n",
       " '__new__',\n",
       " '__reduce__',\n",
       " '__reduce_ex__',\n",
       " '__repr__',\n",
       " '__setattr__',\n",
       " '__sizeof__',\n",
       " '__str__',\n",
       " '__subclasshook__',\n",
       " '__weakref__',\n",
       " 'gender']"
      ]
     },
     "execution_count": 18,
     "metadata": {},
     "output_type": "execute_result"
    }
   ],
   "source": [
    "class Person:\n",
    "    def __init__(self, name, age,gender):\n",
    "        self.__name = name ## private variables\n",
    "        self.__age = age ## private variables\n",
    "        self.gender = gender\n",
    "\n",
    "person = Person(\"Bibash\",19,'Male')\n",
    "def get_name(person):\n",
    "    return person._Person__name\n",
    "    # return person.__name\n",
    "print(get_name(person))\n",
    "\n",
    "\n",
    "dir(person)\n"
   ]
  },
  {
   "cell_type": "code",
   "execution_count": 25,
   "metadata": {},
   "outputs": [
    {
     "name": "stdout",
     "output_type": "stream",
     "text": [
      "Bibash\n"
     ]
    }
   ],
   "source": [
    "class Person:\n",
    "    def __init__(self, name, age, gender):\n",
    "        self._name = name  # protected variable\n",
    "        self._age = age  # protected variable\n",
    "        self.gender = gender\n",
    "\n",
    "    # Getter for _name\n",
    "    def get_name(self):\n",
    "        return self._name\n",
    "\n",
    "\n",
    "class Employee(Person):\n",
    "    def __init__(self, name, age, gender):\n",
    "        super().__init__(name, age, gender)\n",
    "\n",
    "\n",
    "employee = Employee(\"Bibash\", 19, 'Male')\n",
    "\n",
    "# Use the class's method to access the protected variable\n",
    "print(employee.get_name())\n"
   ]
  },
  {
   "cell_type": "code",
   "execution_count": 36,
   "metadata": {},
   "outputs": [
    {
     "name": "stdout",
     "output_type": "stream",
     "text": [
      "Bibash\n",
      "Bibash\n",
      "Bibash is 21 years old.\n",
      "Age can not be -21\n"
     ]
    }
   ],
   "source": [
    "## Encapsulation with getter and setter\n",
    "\n",
    "class Person:\n",
    "    def __init__(self, name, age):\n",
    "        self.__name = name ## private access modifies or variable\n",
    "        self.__age = age ## private variable\n",
    "    ## getter method to get a private variabel\n",
    "    def get_name(self):\n",
    "        return self.__name\n",
    "    def get_age(self):\n",
    "        return self.__age\n",
    "    ## setter method to set a private variable\n",
    "    def set_name(self, age):\n",
    "        if age < 1:\n",
    "            print(f\"Age can not be {age}\")\n",
    "        else:\n",
    "            self.__age = age\n",
    "\n",
    "## making obj/instance\n",
    "person  = Person('Bibash',20)\n",
    "# print(person.__name) ## error\n",
    "\n",
    "## getting name\n",
    "print(person.get_name())\n",
    "\n",
    "## setting name\n",
    "person.set_name(21)\n",
    "\n",
    "print(person.get_name()) \n",
    "print(f\"{person.get_name()} is {person.get_age()} years old.\")\n",
    "\n",
    "person.set_name(-21)\n"
   ]
  }
 ],
 "metadata": {
  "kernelspec": {
   "display_name": "venv",
   "language": "python",
   "name": "python3"
  },
  "language_info": {
   "codemirror_mode": {
    "name": "ipython",
    "version": 3
   },
   "file_extension": ".py",
   "mimetype": "text/x-python",
   "name": "python",
   "nbconvert_exporter": "python",
   "pygments_lexer": "ipython3",
   "version": "3.12.0"
  }
 },
 "nbformat": 4,
 "nbformat_minor": 2
}
