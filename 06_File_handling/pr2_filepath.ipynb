{
 "cells": [
  {
   "cell_type": "markdown",
   "metadata": {},
   "source": [
    "When working with files in Python, handling file paths correctly is crucial to ensure your code works across different operating systems and environments. Python provides several modules and functions for working with file paths effectively."
   ]
  },
  {
   "cell_type": "code",
   "execution_count": 3,
   "metadata": {},
   "outputs": [
    {
     "name": "stdout",
     "output_type": "stream",
     "text": [
      "d:\\Github Repository\\Python\\06_File_handling\n"
     ]
    }
   ],
   "source": [
    "### using the os module\n",
    "import os\n",
    "cwd = os.getcwd()\n",
    "print(cwd)"
   ]
  },
  {
   "cell_type": "code",
   "execution_count": 7,
   "metadata": {},
   "outputs": [
    {
     "name": "stdout",
     "output_type": "stream",
     "text": [
      "Directory 'package' created\n"
     ]
    }
   ],
   "source": [
    "## create a new directory\n",
    "new_directory = 'package'\n",
    "os.mkdir(new_directory)\n",
    "print(f\"Directory '{new_directory}' created\")"
   ]
  },
  {
   "cell_type": "code",
   "execution_count": 8,
   "metadata": {},
   "outputs": [
    {
     "name": "stdout",
     "output_type": "stream",
     "text": [
      "['destination.txt', 'example.bin', 'example.txt', 'package', 'pr1_file_operations.ipynb', 'pr2_filepath.ipynb']\n"
     ]
    }
   ],
   "source": [
    "## listing files and directories\n",
    "items = os.listdir('.')\n",
    "print(items)"
   ]
  },
  {
   "cell_type": "code",
   "execution_count": 9,
   "metadata": {},
   "outputs": [
    {
     "name": "stdout",
     "output_type": "stream",
     "text": [
      "folder\\file.txt\n"
     ]
    }
   ],
   "source": [
    "## joining paths \n",
    "dir_name = 'folder'\n",
    "file_name='file.txt'\n",
    "full_paths=os.path.join(dir_name,file_name)\n",
    "print(full_paths)\n"
   ]
  },
  {
   "cell_type": "code",
   "execution_count": 10,
   "metadata": {},
   "outputs": [
    {
     "name": "stdout",
     "output_type": "stream",
     "text": [
      "d:\\Github Repository\\Python\\06_File_handling\\folder\\file.txt\n"
     ]
    }
   ],
   "source": [
    "## joining paths \n",
    "dir_name = 'folder'\n",
    "file_name='file.txt'\n",
    "full_paths=os.path.join(os.getcwd(),dir_name,file_name)\n",
    "print(full_paths)\n"
   ]
  },
  {
   "cell_type": "code",
   "execution_count": 11,
   "metadata": {},
   "outputs": [
    {
     "name": "stdout",
     "output_type": "stream",
     "text": [
      "The path 'example1.txt does not exists !!\n"
     ]
    }
   ],
   "source": [
    "path = 'example1.txt'\n",
    "if os.path.exists(path):\n",
    "    print(f\"The path '{path} exists !!\")\n",
    "else:\n",
    "    print(f\"The path '{path} does not exists !!\")"
   ]
  },
  {
   "cell_type": "code",
   "execution_count": 17,
   "metadata": {},
   "outputs": [
    {
     "name": "stdout",
     "output_type": "stream",
     "text": [
      "The path 'package' is a directory\n"
     ]
    }
   ],
   "source": [
    "## Checking if a path is file or directory\n",
    "import os\n",
    "path = 'package'\n",
    "if os.path.isfile(path):\n",
    "    print(f\"The path '{path}' is a file\")\n",
    "elif os.path.isdir(path):\n",
    "    print(f\"The path '{path}' is a directory\")\n",
    "else:\n",
    "    print(f\"The path '{path}' is neither a file nor a directory\")"
   ]
  },
  {
   "cell_type": "code",
   "execution_count": 23,
   "metadata": {},
   "outputs": [
    {
     "name": "stdout",
     "output_type": "stream",
     "text": [
      "d:\\Github Repository\\Python\\06_File_handling\\example.txt\n"
     ]
    }
   ],
   "source": [
    "## Getting the absolute path\n",
    "relative_path = 'example.txt'\n",
    "absolute_path = os.path.abspath(relative_path)\n",
    "print(absolute_path)  "
   ]
  }
 ],
 "metadata": {
  "kernelspec": {
   "display_name": "venv",
   "language": "python",
   "name": "python3"
  },
  "language_info": {
   "codemirror_mode": {
    "name": "ipython",
    "version": 3
   },
   "file_extension": ".py",
   "mimetype": "text/x-python",
   "name": "python",
   "nbconvert_exporter": "python",
   "pygments_lexer": "ipython3",
   "version": "3.12.0"
  }
 },
 "nbformat": 4,
 "nbformat_minor": 2
}
