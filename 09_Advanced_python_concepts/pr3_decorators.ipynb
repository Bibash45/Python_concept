{
 "cells": [
  {
   "cell_type": "markdown",
   "metadata": {},
   "source": [
    "Decorators are a powerful and flexible feature in Python that allows you to modify the behavior of a function or class method. They are commonly used to add functionality to functions or methods without modifying their actual code. This lesson covers the basics of decorators, including how to create and use them."
   ]
  },
  {
   "cell_type": "code",
   "execution_count": null,
   "metadata": {},
   "outputs": [],
   "source": [
    "### function copy\n",
    "### closures\n",
    "### decorators"
   ]
  },
  {
   "cell_type": "code",
   "execution_count": 6,
   "metadata": {},
   "outputs": [
    {
     "name": "stdout",
     "output_type": "stream",
     "text": [
      "Welcome to the advanced python couse\n",
      "Welcome to the advanced python couse\n"
     ]
    }
   ],
   "source": [
    "## function copy\n",
    "def welcome():\n",
    "    return \"Welcome to the advanced python couse\"\n",
    "\n",
    "welcome()\n",
    "\n",
    "wel = welcome\n",
    "print(wel())\n",
    "\n",
    "del welcome\n",
    "print(wel())\n",
    "\n"
   ]
  },
  {
   "cell_type": "code",
   "execution_count": 10,
   "metadata": {},
   "outputs": [
    {
     "name": "stdout",
     "output_type": "stream",
     "text": [
      "hey welcome bro, \n",
      "Welcome to the advanced python course\n",
      "please learn these concept properly\n"
     ]
    }
   ],
   "source": [
    "###  closures\n",
    "def main_welcome(msg):\n",
    "   \n",
    "    def sub_welcome_method():\n",
    "        print(msg)\n",
    "        print(\"Welcome to the advanced python course\")\n",
    "        print(\"please learn these concept properly\")\n",
    "    return sub_welcome_method()\n",
    "\n",
    "main_welcome(\"hey welcome bro, \")"
   ]
  },
  {
   "cell_type": "code",
   "execution_count": 15,
   "metadata": {},
   "outputs": [
    {
     "name": "stdout",
     "output_type": "stream",
     "text": [
      "Hey bro, welcome to the closures!\n",
      "Welcome to the advanced Python course\n",
      "Please learn these concepts properly\n"
     ]
    }
   ],
   "source": [
    "def main_welcome(func):\n",
    "    def sub_welcome_method():\n",
    "        func()  \n",
    "        print(\"Welcome to the advanced Python course\")\n",
    "        print(\"Please learn these concepts properly\")\n",
    "    return sub_welcome_method  \n",
    "\n",
    "main_welcome(lambda: print(\"Hey bro, welcome to the closures!\"))()\n"
   ]
  },
  {
   "cell_type": "code",
   "execution_count": 21,
   "metadata": {},
   "outputs": [
    {
     "name": "stdout",
     "output_type": "stream",
     "text": [
      "Hey bro, welcome to the closures!\n",
      "Welcome to the advanced Python course\n",
      "Please learn these concepts properly\n"
     ]
    }
   ],
   "source": [
    "def main_welcome(func):\n",
    "    def sub_welcome_method():\n",
    "        func(\"Hey bro, welcome to the closures!\")  \n",
    "        print(\"Welcome to the advanced Python course\")\n",
    "        print(\"Please learn these concepts properly\")\n",
    "    return sub_welcome_method  \n",
    "\n",
    "main_welcome(print)()\n"
   ]
  },
  {
   "cell_type": "code",
   "execution_count": 23,
   "metadata": {},
   "outputs": [
    {
     "name": "stdout",
     "output_type": "stream",
     "text": [
      "5\n",
      "Welcome to the advanced Python course\n",
      "Please learn these concepts properly\n"
     ]
    }
   ],
   "source": [
    "def main_welcome(func,lst):\n",
    "    def sub_welcome_method():\n",
    "        print(func(lst)) \n",
    "        print(\"Welcome to the advanced Python course\")\n",
    "        print(\"Please learn these concepts properly\")\n",
    "    return sub_welcome_method  \n",
    "\n",
    "main_welcome(len,[1,2,3,4,5])()"
   ]
  },
  {
   "cell_type": "code",
   "execution_count": 44,
   "metadata": {},
   "outputs": [
    {
     "name": "stdout",
     "output_type": "stream",
     "text": [
      "THis is an advanced python course.\n",
      "Welcome to the advanced Python course\n",
      "Please learn these concepts properly\n"
     ]
    }
   ],
   "source": [
    "### decorators\n",
    "\n",
    "\n",
    "\n",
    "def main_welcome(func):\n",
    "    def sub_welcome_method():\n",
    "        func()  \n",
    "        print(\"Welcome to the advanced Python course\")\n",
    "        print(\"Please learn these concepts properly\")\n",
    "    return sub_welcome_method  \n",
    "\n",
    "\n",
    "    \n",
    "\n",
    "## decorator\n",
    "@main_welcome\n",
    "def course_introduction():\n",
    "    print(\"THis is an advanced python course.\")\n",
    "    \n",
    "course_introduction()\n"
   ]
  },
  {
   "cell_type": "code",
   "execution_count": 45,
   "metadata": {},
   "outputs": [
    {
     "name": "stdout",
     "output_type": "stream",
     "text": [
      "Something is happening before the function is called.\n",
      "Hello!\n",
      "Something is happening after the function is called.\n"
     ]
    }
   ],
   "source": [
    "## decorator\n",
    "def my_decorator(func):\n",
    "    def wrapper():\n",
    "        print(\"Something is happening before the function is called.\")\n",
    "        func()\n",
    "        print(\"Something is happening after the function is called.\")\n",
    "    return wrapper\n",
    "\n",
    "@my_decorator\n",
    "def say_hello():\n",
    "    print(\"Hello!\")\n",
    "\n",
    "say_hello()"
   ]
  },
  {
   "cell_type": "code",
   "execution_count": 47,
   "metadata": {},
   "outputs": [
    {
     "name": "stdout",
     "output_type": "stream",
     "text": [
      "Hello, bibash!\n",
      "Hello, bibash!\n",
      "Hello, bibash!\n"
     ]
    }
   ],
   "source": [
    "### Decorators with arguements\n",
    "def repeat(n):\n",
    "    def decorator(func):\n",
    "        def wrapper(*args, **kwargs):\n",
    "            for _ in range(n):\n",
    "                func(*args, **kwargs)\n",
    "        return wrapper   \n",
    "    return decorator\n",
    "# Usage\n",
    "@repeat(3)\n",
    "def greet(name):\n",
    "    print(f\"Hello, {name}!\")\n",
    "    \n",
    "    \n",
    "greet('bibash')"
   ]
  },
  {
   "cell_type": "markdown",
   "metadata": {},
   "source": [
    "At last , \n",
    "Decorators are a powerful tool in Python for extending and modifying the behavior of functions and methods. They provide a clean and readable way to add functionality such as logging, timing, access control, and more without changing the original code. Understanding and using decorators effectively can significantly enhance your Python programming skills."
   ]
  }
 ],
 "metadata": {
  "kernelspec": {
   "display_name": "venv",
   "language": "python",
   "name": "python3"
  },
  "language_info": {
   "codemirror_mode": {
    "name": "ipython",
    "version": 3
   },
   "file_extension": ".py",
   "mimetype": "text/x-python",
   "name": "python",
   "nbconvert_exporter": "python",
   "pygments_lexer": "ipython3",
   "version": "3.12.0"
  }
 },
 "nbformat": 4,
 "nbformat_minor": 2
}
