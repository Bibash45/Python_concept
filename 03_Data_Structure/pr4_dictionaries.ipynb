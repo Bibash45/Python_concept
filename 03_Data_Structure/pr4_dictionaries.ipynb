{
 "cells": [
  {
   "cell_type": "markdown",
   "metadata": {},
   "source": [
    "\n",
    "Dictionaries: \n",
    "\n",
    "The dictionary is a data structure that stores a collection of key-value pairs. It is a mutable data.\n",
    "\n",
    "    Introduction to Dictionaries\n",
    "    Creating Dictionaries\n",
    "    Accessing Dictionary Elements\n",
    "    Modifying Dictionary Elements\n",
    "    Dictionary Methods\n",
    "    Iterating Over Dictionaries\n",
    "    Nested Dictionaries\n",
    "    Dictionary Comprehensions\n",
    "    Practical Examples and Common Errors\n",
    "\n",
    "Introduction to Dictionaries\n",
    "\n",
    "Dictionaries are unordered collections of items. They store data in key-value pairs. Keys must be unique and immutable (e.g., strings, numbers, or tuples), while values can be of any type.\n"
   ]
  },
  {
   "cell_type": "code",
   "execution_count": 3,
   "metadata": {},
   "outputs": [
    {
     "name": "stdout",
     "output_type": "stream",
     "text": [
      "<class 'dict'>\n"
     ]
    }
   ],
   "source": [
    "## Creating Dictionaries\n",
    "empty_dict= {}\n",
    "print(type(empty_dict))"
   ]
  },
  {
   "cell_type": "code",
   "execution_count": 4,
   "metadata": {},
   "outputs": [
    {
     "name": "stdout",
     "output_type": "stream",
     "text": [
      "<class 'dict'>\n"
     ]
    }
   ],
   "source": [
    "empty_dict = dict()\n",
    "print(type(empty_dict))"
   ]
  },
  {
   "cell_type": "code",
   "execution_count": 6,
   "metadata": {},
   "outputs": [
    {
     "name": "stdout",
     "output_type": "stream",
     "text": [
      "{'name': 'Bibas', 'age': 19, 'grade': 14, 'address': {'street': 'Kalanki Mandir', 'city': 'Kathmandu', 'state': 'Bagmati'}}\n"
     ]
    }
   ],
   "source": [
    "student = {\n",
    "    \"name\": \"Bibas\",\n",
    "    \"age\": 19,\n",
    "    \"grade\": 14,\n",
    "    \"address\": {\n",
    "        \"street\": \"Kalanki Mandir\",\n",
    "        \"city\": \"Kathmandu\",\n",
    "        \"state\": \"Bagmati\",\n",
    "    }\n",
    "}\n",
    "print(student)"
   ]
  },
  {
   "cell_type": "code",
   "execution_count": 9,
   "metadata": {},
   "outputs": [
    {
     "name": "stdout",
     "output_type": "stream",
     "text": [
      "{'name': 14, 'age': 19, 'address': {'street': 'Kalanki Mandir', 'city': 'Kathmandu', 'state': 'Bagmati'}}\n"
     ]
    }
   ],
   "source": [
    "student = {\n",
    "    \"name\": \"Bibas\",\n",
    "    \"age\": 19,\n",
    "    \"name\": 14,\n",
    "    \"address\": {\n",
    "        \"street\": \"Kalanki Mandir\",\n",
    "        \"city\": \"Kathmandu\",\n",
    "        \"state\": \"Bagmati\",\n",
    "    }\n",
    "}\n",
    "print(student)\n",
    "# Value is replaced when the same key is defined in the dictionaries so, don't use the same key they must be unique..."
   ]
  },
  {
   "cell_type": "code",
   "execution_count": 11,
   "metadata": {},
   "outputs": [
    {
     "name": "stdout",
     "output_type": "stream",
     "text": [
      "20\n",
      "Kathmandu\n"
     ]
    }
   ],
   "source": [
    "student = {\n",
    "    \"name\": \"Bibash\",\n",
    "    \"age\": 20,\n",
    "    \"grade\": \"A\",\n",
    "    \"address\": {\n",
    "        \"street\": \"Kalanki Mandir\",\n",
    "        \"city\": \"Kathmandu\",\n",
    "        \"state\": \"Bagmati\",\n",
    "    }\n",
    "}\n",
    "\n",
    "## accessing dictionaries elements\n",
    "print(student[\"age\"])\n",
    "print(student[\"address\"][\"city\"]) "
   ]
  },
  {
   "cell_type": "code",
   "execution_count": 18,
   "metadata": {},
   "outputs": [
    {
     "name": "stdout",
     "output_type": "stream",
     "text": [
      "20\n",
      "Kathmandu\n",
      "None\n",
      "USA\n",
      "{'name': 'Bibash', 'age': 20, 'grade': 'A', 'address': {'street': 'Kalanki Mandir', 'city': 'Kathmandu', 'state': 'Bagmati'}}\n"
     ]
    }
   ],
   "source": [
    "## accessing using the get() method\n",
    "print(student.get('age'))\n",
    "\n",
    "## acccessign a nested dictionary\n",
    "print(student.get('address').get('city'))\n",
    "\n",
    "## if no key and value were present then providing a defualt value\n",
    "print(student.get('country'))\n",
    "print(student.get('country', 'USA'))\n",
    "\n",
    "print(student)"
   ]
  },
  {
   "cell_type": "code",
   "execution_count": 29,
   "metadata": {},
   "outputs": [
    {
     "name": "stdout",
     "output_type": "stream",
     "text": [
      "{'name': 'Bibash', 'age': 20, 'grade': 'A', 'address': {'street': 'Kalanki Mandir', 'city': 'Kathmandu', 'state': 'Bagmati'}}\n",
      "{'name': 'Bibash', 'age': 20, 'grade': 'A', 'address': {'street': 'Kalanki Mandir', 'city': 'Kathmandu', 'state': 'Bagmati'}, 'caste': 'Chaudhary'}\n",
      "{'name': 'Bibash', 'grade': 'A', 'address': {'street': 'Kalanki Mandir', 'city': 'Kathmandu', 'state': 'Bagmati'}, 'caste': 'Chaudhary'}\n",
      "{'name': 'Dipesh', 'grade': 'A', 'address': {'street': 'Kalanki Mandir', 'city': 'Kathmandu', 'state': 'Bagmati'}, 'caste': 'Chaudhary'}\n"
     ]
    }
   ],
   "source": [
    "student = {\n",
    "    \"name\": \"Bibash\",\n",
    "    \"age\": 20,\n",
    "    \"grade\": \"A\",\n",
    "    \"address\": {\n",
    "        \"street\": \"Kalanki Mandir\",\n",
    "        \"city\": \"Kathmandu\",\n",
    "        \"state\": \"Bagmati\",\n",
    "    }\n",
    "}\n",
    "\n",
    "## Modifying dictionary elements\n",
    "## dictionary are mutable , so you can add , update or delete elements\n",
    "print(student)\n",
    "\n",
    "\n",
    "# Adding a new key-value pair\n",
    "student['caste'] = \"Chaudhary\"\n",
    "print(student)\n",
    "\n",
    "## deleting a key-value pair\n",
    "if 'age' in student: \n",
    "    del student['age']\n",
    "    print(student)\n",
    "\n",
    "\n",
    "## updating a value\n",
    "student['name'] = \"Dipesh\"\n",
    "print(student)"
   ]
  },
  {
   "cell_type": "code",
   "execution_count": 33,
   "metadata": {},
   "outputs": [
    {
     "name": "stdout",
     "output_type": "stream",
     "text": [
      "dict_keys(['name', 'grade', 'address', 'caste'])\n",
      "dict_values(['Dipesh', 'A', {'street': 'Kalanki Mandir', 'city': 'Kathmandu', 'state': 'Bagmati'}, 'Chaudhary'])\n",
      "dict_items([('name', 'Dipesh'), ('grade', 'A'), ('address', {'street': 'Kalanki Mandir', 'city': 'Kathmandu', 'state': 'Bagmati'}), ('caste', 'Chaudhary')])\n"
     ]
    }
   ],
   "source": [
    "## Dictionary methods\n",
    "\n",
    "keys = student.keys()\n",
    "print(keys)\n",
    "\n",
    "\n",
    "values = student.values()\n",
    "print(values)\n",
    "\n",
    "items= student.items() ## get all key value pairs\n",
    "print(items)"
   ]
  },
  {
   "cell_type": "code",
   "execution_count": 43,
   "metadata": {},
   "outputs": [
    {
     "name": "stdout",
     "output_type": "stream",
     "text": [
      "{'name': 'Bibash2', 'grade': 'A', 'address': {'street': 'Kalanki Mandir', 'city': 'Kathmandu', 'state': 'Bagmati'}, 'caste': 'Chaudhary'}\n",
      "{'name': 'Bibash2', 'grade': 'A', 'address': {'street': 'Kalanki Mandir', 'city': 'Kathmandu', 'state': 'Bagmati'}, 'caste': 'Chaudhary'}\n"
     ]
    }
   ],
   "source": [
    "## shallow copy\n",
    "student_copy = student.copy() ## shallow copy\n",
    "print(student)\n",
    "print(student_copy)"
   ]
  },
  {
   "cell_type": "code",
   "execution_count": 46,
   "metadata": {},
   "outputs": [
    {
     "name": "stdout",
     "output_type": "stream",
     "text": [
      "{'name': 'Bibash3', 'grade': 'A', 'address': {'street': 'Kalanki Mandir', 'city': 'Kathmandu', 'state': 'Bagmati'}, 'caste': 'Chaudhary'}\n",
      "{'name': 'Bibash2', 'grade': 'A', 'address': {'street': 'Kalanki Mandir', 'city': 'Kathmandu', 'state': 'Bagmati'}, 'caste': 'Chaudhary'}\n"
     ]
    }
   ],
   "source": [
    "student['name'] = \"Bibash3\"\n",
    "print(student)\n",
    "print(student_copy)"
   ]
  },
  {
   "cell_type": "code",
   "execution_count": 47,
   "metadata": {},
   "outputs": [
    {
     "name": "stdout",
     "output_type": "stream",
     "text": [
      "name\n",
      "grade\n",
      "address\n",
      "caste\n"
     ]
    }
   ],
   "source": [
    "## Iterating over dictionaries\n",
    "## you can use loops to iterate over dictionaries (keys,values or items)\n",
    "\n",
    "## iterating over the keys\n",
    "for key in student.keys():\n",
    "    print(key)\n"
   ]
  },
  {
   "cell_type": "code",
   "execution_count": 55,
   "metadata": {},
   "outputs": [
    {
     "name": "stdout",
     "output_type": "stream",
     "text": [
      "Bibash\n",
      "20\n",
      "A\n",
      "Kalanki Mandir\n",
      "Kathmandu\n",
      "Bagmati\n",
      "football\n"
     ]
    }
   ],
   "source": [
    "student = {\n",
    "    \"name\": \"Bibash\",\n",
    "    \"age\": 20,\n",
    "    \"grade\": \"A\",\n",
    "    \"address\": {\n",
    "        \"street\": \"Kalanki Mandir\",\n",
    "        \"city\": \"Kathmandu\",\n",
    "        \"state\": \"Bagmati\",\n",
    "    },\n",
    "    \"games\":\"football\"\n",
    "}\n",
    "\n",
    "## iterating over values\n",
    "for value in student.values():\n",
    "    if isinstance(value,dict):\n",
    "        for nested_value in value.values():\n",
    "            print(nested_value)\n",
    "    else:\n",
    "        print(value)"
   ]
  },
  {
   "cell_type": "code",
   "execution_count": 59,
   "metadata": {},
   "outputs": [
    {
     "name": "stdout",
     "output_type": "stream",
     "text": [
      "name : Bibash\n",
      "age : 20\n",
      "grade : A\n",
      "address : {'street': 'Kalanki Mandir', 'city': 'Kathmandu', 'state': 'Bagmati'}\n",
      "games : football\n"
     ]
    }
   ],
   "source": [
    "## iterating over key value pairs\n",
    "for key, value in student.items():\n",
    "    print(f\"{key} : {value}\")"
   ]
  },
  {
   "cell_type": "code",
   "execution_count": null,
   "metadata": {},
   "outputs": [],
   "source": [
    "## Nested Disctionaries\n",
    "## Nested dictionaries are dictionaries that contain other dictionaries as values. They are useful for storing complex data structures, such as hierarchical data or data with multiple levels of relationships\n",
    "\n",
    "Brothers = {\n",
    "    \"Bibash\": {\"age\": 20, \"grade\": \"A\"},\n",
    "    \"Dipesh\": {\"age\": 21, \"grade\": \"B\"},\n",
    "    \"Bibek\": {\"age\": 19, \"grade\": \"A\"}, \n",
    "}\n",
    "\n"
   ]
  },
  {
   "cell_type": "code",
   "execution_count": 65,
   "metadata": {},
   "outputs": [
    {
     "name": "stdout",
     "output_type": "stream",
     "text": [
      "21\n",
      "19\n"
     ]
    }
   ],
   "source": [
    "Brothers = {\n",
    "    \"Bibash\": {\"age\": 20, \"grade\": \"A\"},\n",
    "    \"Dipesh\": {\"age\": 21, \"grade\": \"B\"},\n",
    "    \"Bibek\": {\"age\": 19, \"grade\": \"A\"}, \n",
    "}\n",
    "\n",
    "## access nested disctionaries elements\n",
    "print(Brothers[\"Dipesh\"][\"age\"])\n",
    "print(Brothers[\"Bibek\"][\"age\"])"
   ]
  },
  {
   "cell_type": "code",
   "execution_count": 69,
   "metadata": {},
   "outputs": [
    {
     "name": "stdout",
     "output_type": "stream",
     "text": [
      "Bibash: {'age': 20, 'grade': 'A'}\n",
      "  age: 20\n",
      "  grade: A\n",
      "Dipesh: {'age': 21, 'grade': 'B'}\n",
      "  age: 21\n",
      "  grade: B\n",
      "Bibek: {'age': 19, 'grade': 'A'}\n",
      "  age: 19\n",
      "  grade: A\n"
     ]
    }
   ],
   "source": [
    "## Iterating over nested dictionaries\n",
    "for brother_name,brother_info in Brothers.items():\n",
    "    print(f\"{brother_name}: {brother_info}\")\n",
    "    for key,value in brother_info.items():\n",
    "        print(f\"  {key}: {value}\")"
   ]
  },
  {
   "cell_type": "code",
   "execution_count": 68,
   "metadata": {},
   "outputs": [
    {
     "data": {
      "text/plain": [
       "dict_items([('Bibash', {'age': 20, 'grade': 'A'}), ('Dipesh', {'age': 21, 'grade': 'B'}), ('Bibek', {'age': 19, 'grade': 'A'})])"
      ]
     },
     "execution_count": 68,
     "metadata": {},
     "output_type": "execute_result"
    }
   ],
   "source": [
    "Brothers.items()"
   ]
  },
  {
   "cell_type": "code",
   "execution_count": 75,
   "metadata": {},
   "outputs": [
    {
     "name": "stdout",
     "output_type": "stream",
     "text": [
      "{0: 0, 1: 1, 2: 4, 3: 9, 4: 16, 5: 25, 6: 36, 7: 49, 8: 64, 9: 81, 10: 100}\n",
      "{0: 0, 2: 4, 4: 16, 6: 36, 8: 64, 10: 100}\n"
     ]
    }
   ],
   "source": [
    "## Dictionary comprehension\n",
    "squares = { x:x**2 for x in range(11)}\n",
    "print(squares)\n",
    "\n",
    "\n",
    "## conditional disctionary comprehension\n",
    "evens = { x:x**2 for x in range(11) if x%2==0}\n",
    "print(evens)"
   ]
  },
  {
   "cell_type": "code",
   "execution_count": 76,
   "metadata": {},
   "outputs": [
    {
     "name": "stdout",
     "output_type": "stream",
     "text": [
      "{1: 1, 2: 2, 3: 3, 4: 4}\n"
     ]
    }
   ],
   "source": [
    "## practical examples \n",
    "\n",
    "## use a dictionary to count the frequency of elements in list\n",
    "numbers = [1, 2, 2, 3, 3, 3, 4, 4, 4, 4]\n",
    "frequency = {}\n",
    "\n",
    "for number in numbers:\n",
    "    if number in frequency:\n",
    "        frequency[number] += 1\n",
    "    else: \n",
    "        frequency[number] = 1\n",
    "print(frequency)"
   ]
  },
  {
   "cell_type": "code",
   "execution_count": 79,
   "metadata": {},
   "outputs": [
    {
     "name": "stdout",
     "output_type": "stream",
     "text": [
      "{'a': 1, 'b': 2, 'c': 3, 'd': 4}\n"
     ]
    }
   ],
   "source": [
    "## Merge 2 dictionaries into one\n",
    "\n",
    "dict1 = {\"a\":1,\"b\":2}\n",
    "dict2 = {\"c\":3,\"d\":4}\n",
    "\n",
    "merged_dictionary = {**dict1,**dict2}\n",
    "\n",
    "print(merged_dictionary)"
   ]
  }
 ],
 "metadata": {
  "kernelspec": {
   "display_name": "venv",
   "language": "python",
   "name": "python3"
  },
  "language_info": {
   "codemirror_mode": {
    "name": "ipython",
    "version": 3
   },
   "file_extension": ".py",
   "mimetype": "text/x-python",
   "name": "python",
   "nbconvert_exporter": "python",
   "pygments_lexer": "ipython3",
   "version": "3.12.0"
  }
 },
 "nbformat": 4,
 "nbformat_minor": 2
}
