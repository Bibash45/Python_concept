{
 "cells": [
  {
   "cell_type": "markdown",
   "metadata": {},
   "source": [
    "NumPy is a fundamental library for scientific computing in Python. It provides support for arrays and matrices, along with a collection of mathematical functions to operate on these data structures. In this lesson, we will cover the basics of NumPy, focusing on arrays and vectorized operations."
   ]
  },
  {
   "cell_type": "code",
   "execution_count": 1,
   "metadata": {},
   "outputs": [
    {
     "name": "stdout",
     "output_type": "stream",
     "text": [
      "Defaulting to user installation because normal site-packages is not writeable\n",
      "Requirement already satisfied: numpy in c:\\users\\hp\\appdata\\roaming\\python\\python312\\site-packages (2.2.1)\n"
     ]
    },
    {
     "name": "stderr",
     "output_type": "stream",
     "text": [
      "\n",
      "[notice] A new release of pip is available: 24.2 -> 25.0\n",
      "[notice] To update, run: C:\\Program Files\\Python312\\python.exe -m pip install --upgrade pip\n"
     ]
    }
   ],
   "source": [
    "!pip install numpy"
   ]
  },
  {
   "cell_type": "code",
   "execution_count": 6,
   "metadata": {},
   "outputs": [
    {
     "name": "stdout",
     "output_type": "stream",
     "text": [
      "[1 2 3 4 5]\n",
      "<class 'numpy.ndarray'>\n",
      "(5,)\n"
     ]
    }
   ],
   "source": [
    "import numpy as np\n",
    "\n",
    "## create array using numpy\n",
    "## create a 1D array\n",
    "arr1 = np.array([1, 2, 3, 4, 5])\n",
    "print(arr1)\n",
    "print(type(arr1))\n",
    "print(arr1.shape)"
   ]
  },
  {
   "cell_type": "code",
   "execution_count": 11,
   "metadata": {},
   "outputs": [
    {
     "data": {
      "text/plain": [
       "array([[1, 2, 3, 4, 5]])"
      ]
     },
     "execution_count": 11,
     "metadata": {},
     "output_type": "execute_result"
    }
   ],
   "source": [
    "arr2 = np.array([1, 2, 3, 4, 5])\n",
    "arr2.reshape(1,5) ## 1 row and 5 columns\n",
    "\n"
   ]
  },
  {
   "cell_type": "code",
   "execution_count": 13,
   "metadata": {},
   "outputs": [
    {
     "name": "stdout",
     "output_type": "stream",
     "text": [
      "(1, 5)\n"
     ]
    }
   ],
   "source": [
    "\n",
    "arr2 = np.array([[1, 2, 3, 4, 5]])\n",
    "print(arr2.shape)"
   ]
  },
  {
   "cell_type": "code",
   "execution_count": 12,
   "metadata": {},
   "outputs": [
    {
     "name": "stdout",
     "output_type": "stream",
     "text": [
      "(2, 5)\n"
     ]
    }
   ],
   "source": [
    "## create a 2D array\n",
    "arr2 = np.array([[1, 2, 3, 4, 5], [6, 7, 8, 9, 10]])\n",
    "print(arr2.shape)"
   ]
  },
  {
   "cell_type": "code",
   "execution_count": 14,
   "metadata": {},
   "outputs": [
    {
     "data": {
      "text/plain": [
       "array([[0],\n",
       "       [2],\n",
       "       [4],\n",
       "       [6],\n",
       "       [8]])"
      ]
     },
     "execution_count": 14,
     "metadata": {},
     "output_type": "execute_result"
    }
   ],
   "source": [
    "np.arange(0,10,2).reshape(5,1)"
   ]
  },
  {
   "cell_type": "code",
   "execution_count": 19,
   "metadata": {},
   "outputs": [
    {
     "name": "stdout",
     "output_type": "stream",
     "text": [
      "[[1. 1. 1. 1.]\n",
      " [1. 1. 1. 1.]\n",
      " [1. 1. 1. 1.]]\n",
      "\n",
      "[[0. 0. 0. 0.]\n",
      " [0. 0. 0. 0.]\n",
      " [0. 0. 0. 0.]]\n"
     ]
    }
   ],
   "source": [
    "print(np.ones((3,4)))\n",
    "print()\n",
    "print(np.zeros((3,4)))"
   ]
  },
  {
   "cell_type": "code",
   "execution_count": 20,
   "metadata": {},
   "outputs": [
    {
     "data": {
      "text/plain": [
       "array([[1., 0., 0.],\n",
       "       [0., 1., 0.],\n",
       "       [0., 0., 1.]])"
      ]
     },
     "execution_count": 20,
     "metadata": {},
     "output_type": "execute_result"
    }
   ],
   "source": [
    "## identity matrix\n",
    "np.eye(3)"
   ]
  },
  {
   "cell_type": "code",
   "execution_count": 33,
   "metadata": {},
   "outputs": [
    {
     "name": "stdout",
     "output_type": "stream",
     "text": [
      "Array: \n",
      "[[1 2 3]\n",
      " [4 5 6]]\n",
      "\n",
      "Shape: \n",
      "(2, 3) \n",
      "\n",
      "Size: \n",
      "6\n",
      "\n",
      "Data type: \n",
      "int64\n",
      "\n",
      "Dimension: \n",
      "2\n",
      "\n",
      "Item size (in bytes): \n",
      "8\n",
      "\n"
     ]
    }
   ],
   "source": [
    "## Attributes of numpy array\n",
    "arr= np.array([[1,2,3],[4,5,6]])\n",
    "print(f\"Array: \\n{arr}\\n\")\n",
    "print(f\"Shape: \\n{arr.shape} \\n\")\n",
    "print(f\"Size: \\n{arr.size}\\n\")\n",
    "print(f\"Data type: \\n{arr.dtype}\\n\")\n",
    "print(f\"Dimension: \\n{arr.ndim}\\n\")\n",
    "print(f\"Item size (in bytes): \\n{arr.itemsize}\\n\")"
   ]
  },
  {
   "cell_type": "code",
   "execution_count": 36,
   "metadata": {},
   "outputs": [
    {
     "name": "stdout",
     "output_type": "stream",
     "text": [
      "Addition [ 7  9 11 13 15]\n",
      "Subtraction [-5 -5 -5 -5 -5]\n",
      "Multiplication [ 6 14 24 36 50]\n",
      "Division [0.16666667 0.28571429 0.375      0.44444444 0.5       ]\n",
      "Power [      1     128    6561  262144 9765625]\n"
     ]
    }
   ],
   "source": [
    "## Numpy vectorized operations\n",
    "arr1 = np.array([1,2,3,4,5])\n",
    "arr2 = np.array([6,7,8,9,10])\n",
    "## element wise operations\n",
    "## addition, subtraction, multiplication, division, power\n",
    "print(f\"Addition {arr1 + arr2}\")\n",
    "print(f\"Subtraction {arr1 - arr2}\")\n",
    "print(f\"Multiplication {arr1 * arr2}\")\n",
    "print(f\"Division {arr1 / arr2}\")\n",
    "print(f\"Power {arr1 ** arr2}\")\n",
    "\n"
   ]
  },
  {
   "cell_type": "code",
   "execution_count": 44,
   "metadata": {},
   "outputs": [
    {
     "name": "stdout",
     "output_type": "stream",
     "text": [
      "square root: \n",
      " [1.41421356 1.73205081 2.         2.23606798 2.44948974]\n",
      "\n",
      "exponential: \n",
      " [  7.3890561   20.08553692  54.59815003 148.4131591  403.42879349]\n",
      "\n",
      "log: \n",
      " [0.69314718 1.09861229 1.38629436 1.60943791 1.79175947]\n",
      "\n",
      "sin: \n",
      " [ 0.90929743  0.14112001 -0.7568025  -0.95892427 -0.2794155 ]\n",
      "\n"
     ]
    }
   ],
   "source": [
    "## Universal functions\n",
    "arr = np.array([2,3,4,5,6])\n",
    "\n",
    "## square root\n",
    "print(f\"square root: \\n {np.sqrt(arr)}\\n\")\n",
    "\n",
    "## exponential\n",
    "print(f\"exponential: \\n {np.exp(arr)}\\n\")\n",
    "\n",
    "## log\n",
    "print(f\"log: \\n {np.log(arr)}\\n\")\n",
    "\n",
    "## sin\n",
    "print(f\"sin: \\n {np.sin(arr)}\\n\")\n"
   ]
  },
  {
   "cell_type": "code",
   "execution_count": 71,
   "metadata": {},
   "outputs": [
    {
     "name": "stdout",
     "output_type": "stream",
     "text": [
      "Array : \n",
      "[[ 1  2  3  4  5  6  7  8  9]\n",
      " [10 11 12 13 14 15 16 17 18]\n",
      " [19 20 21 22 23 24 25 26 27]]\n",
      "\n",
      "Dimension:  \n",
      "2\n",
      "\n",
      "1\n",
      "1\n",
      "[[10 11 12 13 14 15 16 17 18]\n",
      " [19 20 21 22 23 24 25 26 27]]\n",
      "[[17 18]\n",
      " [26 27]]\n",
      "[[17 18]\n",
      " [26 27]]\n",
      "\n",
      "[[ 8  9]\n",
      " [17 18]]\n",
      "\n"
     ]
    }
   ],
   "source": [
    "## Indexing and slicing\n",
    "arr = np.array([\n",
    "    [1,2,3,4,5,6,7,8,9],\n",
    "    [10,11,12,13,14,15,16,17,18],\n",
    "    [19,20,21,22,23,24,25,26,27]\n",
    "    ])\n",
    "\n",
    "\n",
    "print(f\"Array : \\n{arr}\\n\")\n",
    "print(f\"Dimension:  \\n{arr.ndim}\\n\")\n",
    "\n",
    "## indexing in 2D array\n",
    "print(arr[0][0])\n",
    "## alternative methos of indexing\n",
    "print(arr[0,0])\n",
    "\n",
    "print(arr[1:,0:])\n",
    "\n",
    "print(arr[1:,-2:])\n",
    "print(arr[1:,7:])\n",
    "\n",
    "print(f\"\\n{arr[0:2,-2:]}\\n\")\n",
    "\n"
   ]
  },
  {
   "cell_type": "code",
   "execution_count": 79,
   "metadata": {},
   "outputs": [
    {
     "name": "stdout",
     "output_type": "stream",
     "text": [
      "[[  1   2   3   4   5   6   7   8   9]\n",
      " [100 100 100 100 100 100 100 100 100]\n",
      " [100 100 100 100 100 100 100 100 100]]\n",
      "\n",
      " here, i am changing array[2:,-1:] to 200 :\n",
      "[[  1   2   3   4   5   6   7   8   9]\n",
      " [100 100 100 100 100 100 100 100 100]\n",
      " [100 100 100 100 100 100 100 100 200]]\n"
     ]
    }
   ],
   "source": [
    "arr[1:] = 100\n",
    "print(arr)\n",
    "\n",
    "## changing the elements of the array\n",
    "print(\"\\n here, i am changing array[2:,-1:] to 200 :\") \n",
    "arr[2:,-1:] = 200\n",
    "print(arr)"
   ]
  },
  {
   "cell_type": "code",
   "execution_count": 82,
   "metadata": {},
   "outputs": [
    {
     "name": "stdout",
     "output_type": "stream",
     "text": [
      "Normalized data: [-1.41421356 -0.70710678  0.          0.70710678  1.41421356]\n"
     ]
    }
   ],
   "source": [
    "## statistical concepts -- Normalization\n",
    "## to have a mean of 0 and standard deviation of 1\n",
    "data = np.array([1,2,3,4,5])\n",
    "\n",
    "## calculate the mean and standard deviation\n",
    "mean = np.mean(data)\n",
    "std_dev = np.std(data)\n",
    "\n",
    "## Normalize the data\n",
    "normalized_data = (data - mean) / std_dev\n",
    "print(f\"Normalized data: {normalized_data}\")\n"
   ]
  },
  {
   "cell_type": "code",
   "execution_count": 91,
   "metadata": {},
   "outputs": [
    {
     "name": "stdout",
     "output_type": "stream",
     "text": [
      "Mean: 2.7142857142857144\n",
      "Median: 2.0\n",
      "Mode: 2, Count: 3\n",
      "Standard deviation: 1.2777531299998799\n",
      "Variance: 1.63265306122449\n",
      "Percentile: 2.0\n",
      "Correlation: \n",
      "[[1. 1.]\n",
      " [1. 1.]]\n",
      "Covariance: \n",
      "[[2.5 2.5]\n",
      " [2.5 2.5]]\n",
      "Random numbers: [0.92258299 0.77971765 0.23862158 0.24518317 0.76963527]\n",
      "Random numbers: [31 48  2  1 56]\n",
      "Random numbers: [6.41801519e-01 6.38871727e-02 7.97181991e-01 2.86135652e-06\n",
      " 6.99549508e-01]\n"
     ]
    }
   ],
   "source": [
    "## statistical concepts -- Standardization\n",
    "\n",
    "data = np.array([1,2,2,2,3,4,5])\n",
    "\n",
    "## mean \n",
    "mean = np.mean(data)\n",
    "print(f\"Mean: {mean}\")\n",
    "\n",
    "## median\n",
    "median = np.median(data)\n",
    "print(f\"Median: {median}\")\n",
    "\n",
    "## mode\n",
    "from scipy import stats\n",
    "mode_result = stats.mode(data, keepdims=True)\n",
    "print(f\"Mode: {mode_result.mode[0]}, Count: {mode_result.count[0]}\")\n",
    "\n",
    "\n",
    "## standard deviation\n",
    "std_dev = np.std(data)\n",
    "print(f\"Standard deviation: {std_dev}\")\n",
    "\n",
    "## variance\n",
    "variance = np.var(data)\n",
    "print(f\"Variance: {variance}\")\n",
    "\n",
    "## percentile\n",
    "percentile = np.percentile(data, 50)\n",
    "print(f\"Percentile: {percentile}\")\n",
    "\n",
    "## correlation\n",
    "data1 = np.array([1,2,3,4,5])\n",
    "data2 = np.array([6,7,8,9,10])\n",
    "correlation = np.corrcoef(data1, data2)\n",
    "print(f\"Correlation: \\n{correlation}\")\n",
    "\n",
    "## covariance\n",
    "covariance = np.cov(data1, data2)\n",
    "print(f\"Covariance: \\n{covariance}\")\n",
    "\n",
    "## random numbers\n",
    "## generate random numbers\n",
    "random_numbers = np.random.rand(5)\n",
    "print(f\"Random numbers: {random_numbers}\")\n",
    "\n",
    "## generate random numbers between 0 and 100\n",
    "random_numbers = np.random.randint(0, 100, 5)\n",
    "print(f\"Random numbers: {random_numbers}\")\n",
    "\n",
    "## generate random numbers between 0 and 1\n",
    "random_numbers = np.random.rand(5)\n",
    "print(f\"Random numbers: {random_numbers}\")\n",
    "\n"
   ]
  },
  {
   "cell_type": "code",
   "execution_count": 100,
   "metadata": {},
   "outputs": [
    {
     "name": "stdout",
     "output_type": "stream",
     "text": [
      "Is 1 in data: True\n",
      "[False False False  True  True]\n",
      "[4 5]\n",
      "[2 4]\n",
      "[3 4]\n"
     ]
    }
   ],
   "source": [
    "## Logical operations\n",
    "data = np.array([1,2,3,4,5])\n",
    "print(f\"Is 1 in data: {1 in data}\")\n",
    "\n",
    "print(data>3)\n",
    "print(data[data>3])\n",
    "print(data[data%2==0])\n",
    "\n",
    "\n",
    "print(data[(data>2) & (data<5)])\n",
    "\n"
   ]
  }
 ],
 "metadata": {
  "kernelspec": {
   "display_name": "venv",
   "language": "python",
   "name": "python3"
  },
  "language_info": {
   "codemirror_mode": {
    "name": "ipython",
    "version": 3
   },
   "file_extension": ".py",
   "mimetype": "text/x-python",
   "name": "python",
   "nbconvert_exporter": "python",
   "pygments_lexer": "ipython3",
   "version": "3.12.0"
  }
 },
 "nbformat": 4,
 "nbformat_minor": 2
}
