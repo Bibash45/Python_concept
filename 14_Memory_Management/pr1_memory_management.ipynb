{
 "cells": [
  {
   "cell_type": "markdown",
   "metadata": {},
   "source": [
    "\n",
    "Python Memory Management\n",
    "\n",
    "Memory management in Python involves a combination of automatic garbage collection, reference counting, and various internal optimizations to efficiently manage memory allocation and deallocation. Understanding these mechanisms can help developers write more efficient and robust applications.\n",
    "\n",
    "    Key Concepts in Python Memory Management\n",
    "    Memory Allocation and Deallocation\n",
    "    Reference Counting\n",
    "    Garbage Collection\n",
    "    The gc Module\n",
    "    Memory Management Best Practices\n",
    "\n",
    "Reference Counting\n",
    "\n",
    "Reference counting is the primary method Python uses to manage memory. Each object in Python maintains a count of references pointing to it. When the reference count drops to zero, the memory occupied by the object is deallocated.\n"
   ]
  },
  {
   "cell_type": "code",
   "execution_count": null,
   "metadata": {},
   "outputs": [
    {
     "name": "stdout",
     "output_type": "stream",
     "text": [
      "2\n"
     ]
    }
   ],
   "source": [
    "### Reference Counting\n",
    "import sys\n",
    "\n",
    "a = []\n",
    "## 2 (one reference from 'a' and one reference from getrefcount())\n",
    "print(sys.getrefcount(a))"
   ]
  },
  {
   "cell_type": "code",
   "execution_count": 8,
   "metadata": {},
   "outputs": [
    {
     "name": "stdout",
     "output_type": "stream",
     "text": [
      "3\n"
     ]
    }
   ],
   "source": [
    "b=a\n",
    "print(sys.getrefcount(a))"
   ]
  },
  {
   "cell_type": "code",
   "execution_count": 9,
   "metadata": {},
   "outputs": [
    {
     "name": "stdout",
     "output_type": "stream",
     "text": [
      "2\n"
     ]
    }
   ],
   "source": [
    "del b\n",
    "print(sys.getrefcount(a))"
   ]
  },
  {
   "cell_type": "markdown",
   "metadata": {},
   "source": [
    "### Garbage Collection\n",
    "Python includes a cyclic garbage collector to handle reference cycles.Reference cycles occur when objects reference each other, preventing their reference counts from reaching zero.\n"
   ]
  },
  {
   "cell_type": "code",
   "execution_count": 15,
   "metadata": {},
   "outputs": [],
   "source": [
    "import gc\n",
    "## enable garbage collector\n",
    "gc.enable()\n",
    "\n"
   ]
  },
  {
   "cell_type": "code",
   "execution_count": 16,
   "metadata": {},
   "outputs": [],
   "source": [
    "gc.disable()"
   ]
  },
  {
   "cell_type": "code",
   "execution_count": 18,
   "metadata": {},
   "outputs": [
    {
     "data": {
      "text/plain": [
       "0"
      ]
     },
     "execution_count": 18,
     "metadata": {},
     "output_type": "execute_result"
    }
   ],
   "source": [
    "gc.collect()"
   ]
  },
  {
   "cell_type": "code",
   "execution_count": 19,
   "metadata": {},
   "outputs": [
    {
     "name": "stdout",
     "output_type": "stream",
     "text": [
      "[{'collections': 197, 'collected': 1441, 'uncollectable': 0}, {'collections': 17, 'collected': 474, 'uncollectable': 0}, {'collections': 6, 'collected': 1712, 'uncollectable': 0}]\n"
     ]
    }
   ],
   "source": [
    "### Get garbage collector status\n",
    "print(gc.get_stats())"
   ]
  },
  {
   "cell_type": "code",
   "execution_count": 20,
   "metadata": {},
   "outputs": [
    {
     "name": "stdout",
     "output_type": "stream",
     "text": [
      "[]\n"
     ]
    }
   ],
   "source": [
    "### get unreachable objects\n",
    "print(gc.garbage)"
   ]
  },
  {
   "cell_type": "markdown",
   "metadata": {},
   "source": [
    "\n",
    "*Memory Management Best Practices*\n",
    "\n",
    "    1. Use Local Variables: Local variables have a shorter lifespan and are freed sooner than global variables.\n",
    "    2. Avoid Circular References: Circular references can lead to memory leaks if not properly managed.\n",
    "    3. Use Generators: Generators produce items one at a time and only keep one item in memory at a time, making them memory efficient.\n",
    "    4. Explicitly Delete Objects: Use the del statement to delete variables and objects explicitly.\n",
    "    5. Profile Memory Usage: Use memory profiling tools like tracemalloc and memory_profiler to identify memory leaks and optimize memory usage.\n",
    "\n"
   ]
  },
  {
   "cell_type": "code",
   "execution_count": 23,
   "metadata": {},
   "outputs": [
    {
     "name": "stdout",
     "output_type": "stream",
     "text": [
      "Object obj1 created\n",
      "Object obj2 created\n",
      "Object obj1 deleted\n",
      "Object obj2 deleted\n"
     ]
    },
    {
     "data": {
      "text/plain": [
       "245"
      ]
     },
     "execution_count": 23,
     "metadata": {},
     "output_type": "execute_result"
    }
   ],
   "source": [
    "## Handling circular references\n",
    "import gc\n",
    "\n",
    "class MyObject:\n",
    "    def __init__(self,name):\n",
    "        self.name = name\n",
    "        print(f'Object {self.name} created')\n",
    "        \n",
    "    def __del__(self):\n",
    "        print(f'Object {self.name} deleted')\n",
    "    \n",
    "## create a circular reference\n",
    "obj1 = MyObject('obj1')\n",
    "obj2 = MyObject('obj2')\n",
    "obj1.ref = obj2\n",
    "obj2.ref = obj1\n",
    "\n",
    "## delete references\n",
    "del obj1\n",
    "del obj2\n",
    "\n",
    "## Manually trigger the garbage collection\n",
    "gc.collect()\n",
    "        "
   ]
  },
  {
   "cell_type": "code",
   "execution_count": 24,
   "metadata": {},
   "outputs": [
    {
     "name": "stdout",
     "output_type": "stream",
     "text": [
      "Garbage collected objects: []\n"
     ]
    }
   ],
   "source": [
    "## print the collected objects\n",
    "print(f\"Garbage collected objects: {gc.garbage}\")"
   ]
  },
  {
   "cell_type": "code",
   "execution_count": 25,
   "metadata": {},
   "outputs": [
    {
     "name": "stdout",
     "output_type": "stream",
     "text": [
      "0\n",
      "1\n",
      "2\n",
      "3\n",
      "4\n",
      "5\n",
      "6\n",
      "7\n",
      "8\n",
      "9\n",
      "10\n",
      "11\n"
     ]
    }
   ],
   "source": [
    "## Generators For Memory Efficiency\n",
    "#Generators allow you to produce items one at a time, using memory efficiently by only keeping one item in memory at a time.\n",
    "\n",
    "def generate_numbers(n):\n",
    "    for i in range(n):\n",
    "        yield i\n",
    "        \n",
    "## using the generator\n",
    "for num in generate_numbers(100000):\n",
    "    print(num)\n",
    "    if(num>10):\n",
    "        break"
   ]
  },
  {
   "cell_type": "code",
   "execution_count": 30,
   "metadata": {},
   "outputs": [],
   "source": [
    "## Profiling Memory Usage with tracemalloc\n",
    "import tracemalloc\n",
    "\n",
    "def create_list():\n",
    "    return [i for i in range(10000)]\n",
    "\n",
    "def main():\n",
    "    tracemalloc.start()\n",
    "    \n",
    "    snapshot = tracemalloc.take_snapshot()\n",
    "    top_stats = snapshot.statistics('lineno')\n",
    "    \n",
    "    print(\"[ Top 10 ]\")\n",
    "    for stat in top_stats[::]:\n",
    "        print(stat)"
   ]
  },
  {
   "cell_type": "code",
   "execution_count": 31,
   "metadata": {},
   "outputs": [
    {
     "name": "stdout",
     "output_type": "stream",
     "text": [
      "[ Top 10 ]\n",
      "d:\\Github Repository\\Python\\venv\\Lib\\selectors.py:314: size=144 KiB, count=3, average=48.0 KiB\n",
      "C:\\Users\\hp\\AppData\\Roaming\\Python\\Python312\\site-packages\\IPython\\core\\compilerop.py:174: size=8039 B, count=90, average=89 B\n",
      "C:\\Users\\hp\\AppData\\Roaming\\Python\\Python312\\site-packages\\IPython\\core\\builtin_trap.py:70: size=6512 B, count=1, average=6512 B\n",
      "d:\\Github Repository\\Python\\venv\\Lib\\tracemalloc.py:67: size=6144 B, count=96, average=64 B\n",
      "d:\\Github Repository\\Python\\venv\\Lib\\json\\decoder.py:353: size=4932 B, count=71, average=69 B\n",
      "d:\\Github Repository\\Python\\venv\\Lib\\tracemalloc.py:193: size=4464 B, count=93, average=48 B\n",
      "C:\\Users\\hp\\AppData\\Roaming\\Python\\Python312\\site-packages\\zmq\\sugar\\attrsettr.py:45: size=3384 B, count=72, average=47 B\n",
      "d:\\Github Repository\\Python\\venv\\Lib\\codeop.py:118: size=3376 B, count=47, average=72 B\n",
      "C:\\Users\\hp\\AppData\\Roaming\\Python\\Python312\\site-packages\\traitlets\\traitlets.py:731: size=2817 B, count=45, average=63 B\n",
      "C:\\Users\\hp\\AppData\\Roaming\\Python\\Python312\\site-packages\\IPython\\core\\compilerop.py:86: size=2547 B, count=38, average=67 B\n",
      "C:\\Users\\hp\\AppData\\Roaming\\Python\\Python312\\site-packages\\traitlets\\traitlets.py:1543: size=2313 B, count=38, average=61 B\n",
      "C:\\Users\\hp\\AppData\\Roaming\\Python\\Python312\\site-packages\\jupyter_client\\jsonutil.py:111: size=2150 B, count=43, average=50 B\n",
      "C:\\Users\\hp\\AppData\\Roaming\\Python\\Python312\\site-packages\\ipykernel\\iostream.py:346: size=1312 B, count=16, average=82 B\n",
      "C:\\Users\\hp\\AppData\\Roaming\\Python\\Python312\\site-packages\\jupyter_client\\session.py:1057: size=1288 B, count=11, average=117 B\n",
      "C:\\Users\\hp\\AppData\\Roaming\\Python\\Python312\\site-packages\\jupyter_client\\session.py:100: size=1243 B, count=8, average=155 B\n",
      "C:\\Users\\hp\\AppData\\Roaming\\Python\\Python312\\site-packages\\traitlets\\traitlets.py:1514: size=1200 B, count=10, average=120 B\n",
      "C:\\Users\\hp\\AppData\\Roaming\\Python\\Python312\\site-packages\\ipykernel\\iostream.py:276: size=1144 B, count=12, average=95 B\n",
      "C:\\Users\\hp\\AppData\\Roaming\\Python\\Python312\\site-packages\\zmq\\sugar\\socket.py:805: size=1056 B, count=6, average=176 B\n",
      "C:\\Users\\hp\\AppData\\Roaming\\Python\\Python312\\site-packages\\jupyter_client\\jsonutil.py:75: size=1040 B, count=5, average=208 B\n",
      "C:\\Users\\hp\\AppData\\Roaming\\Python\\Python312\\site-packages\\IPython\\core\\history.py:782: size=835 B, count=4, average=209 B\n",
      "d:\\Github Repository\\Python\\venv\\Lib\\threading.py:272: size=760 B, count=2, average=380 B\n",
      "C:\\Users\\hp\\AppData\\Roaming\\Python\\Python312\\site-packages\\ipykernel\\iostream.py:287: size=752 B, count=8, average=94 B\n",
      "C:\\Users\\hp\\AppData\\Roaming\\Python\\Python312\\site-packages\\ipykernel\\compiler.py:91: size=701 B, count=7, average=100 B\n",
      "d:\\Github Repository\\Python\\venv\\Lib\\asyncio\\events.py:84: size=648 B, count=6, average=108 B\n",
      "C:\\Users\\hp\\AppData\\Roaming\\Python\\Python312\\site-packages\\IPython\\core\\interactiveshell.py:3104: size=520 B, count=4, average=130 B\n",
      "C:\\Users\\hp\\AppData\\Roaming\\Python\\Python312\\site-packages\\ipykernel\\kernelbase.py:775: size=424 B, count=2, average=212 B\n",
      "d:\\Github Repository\\Python\\venv\\Lib\\asyncio\\base_events.py:792: size=384 B, count=4, average=96 B\n",
      "C:\\Users\\hp\\AppData\\Roaming\\Python\\Python312\\site-packages\\IPython\\core\\interactiveshell.py:3334: size=376 B, count=1, average=376 B\n",
      "C:\\Users\\hp\\AppData\\Roaming\\Python\\Python312\\site-packages\\ipykernel\\ipkernel.py:362: size=360 B, count=1, average=360 B\n",
      "d:\\Github Repository\\Python\\venv\\Lib\\threading.py:269: size=344 B, count=3, average=115 B\n",
      "C:\\Users\\hp\\AppData\\Roaming\\Python\\Python312\\site-packages\\IPython\\core\\interactiveshell.py:3517: size=296 B, count=1, average=296 B\n",
      "C:\\Users\\hp\\AppData\\Roaming\\Python\\Python312\\site-packages\\ipykernel\\zmqshell.py:549: size=288 B, count=4, average=72 B\n",
      "d:\\Github Repository\\Python\\venv\\Lib\\asyncio\\base_events.py:427: size=288 B, count=2, average=144 B\n",
      "C:\\Users\\hp\\AppData\\Roaming\\Python\\Python312\\site-packages\\tornado\\queues.py:248: size=288 B, count=2, average=144 B\n",
      "C:\\Users\\hp\\AppData\\Roaming\\Python\\Python312\\site-packages\\ipykernel\\iostream.py:527: size=272 B, count=4, average=68 B\n",
      "C:\\Users\\hp\\AppData\\Roaming\\Python\\Python312\\site-packages\\ipykernel\\kernelbase.py:534: size=264 B, count=1, average=264 B\n",
      "C:\\Users\\hp\\AppData\\Roaming\\Python\\Python312\\site-packages\\ipykernel\\kernelbase.py:435: size=248 B, count=1, average=248 B\n",
      "C:\\Users\\hp\\AppData\\Roaming\\Python\\Python312\\site-packages\\ipykernel\\iostream.py:121: size=248 B, count=1, average=248 B\n",
      "C:\\Users\\hp\\AppData\\Roaming\\Python\\Python312\\site-packages\\dateutil\\parser\\isoparser.py:146: size=240 B, count=5, average=48 B\n",
      "C:\\Users\\hp\\AppData\\Roaming\\Python\\Python312\\site-packages\\IPython\\core\\history.py:836: size=240 B, count=3, average=80 B\n",
      "d:\\Github Repository\\Python\\venv\\Lib\\inspect.py:265: size=240 B, count=2, average=120 B\n",
      "d:\\Github Repository\\Python\\venv\\Lib\\logging\\__init__.py:1622: size=240 B, count=1, average=240 B\n",
      "d:\\Github Repository\\Python\\venv\\Lib\\asyncio\\futures.py:394: size=232 B, count=2, average=116 B\n",
      "C:\\Users\\hp\\AppData\\Roaming\\Python\\Python312\\site-packages\\ipykernel\\kernelbase.py:545: size=232 B, count=1, average=232 B\n",
      "C:\\Users\\hp\\AppData\\Roaming\\Python\\Python312\\site-packages\\IPython\\core\\interactiveshell.py:3237: size=224 B, count=2, average=112 B\n",
      "C:\\Users\\hp\\AppData\\Roaming\\Python\\Python312\\site-packages\\IPython\\core\\interactiveshell.py:3223: size=208 B, count=4, average=52 B\n",
      "d:\\Github Repository\\Python\\venv\\Lib\\re\\_compiler.py:759: size=208 B, count=1, average=208 B\n",
      "C:\\Users\\hp\\AppData\\Roaming\\Python\\Python312\\site-packages\\jupyter_client\\session.py:1085: size=208 B, count=1, average=208 B\n",
      "C:\\Users\\hp\\AppData\\Roaming\\Python\\Python312\\site-packages\\ipykernel\\kernelbase.py:770: size=208 B, count=1, average=208 B\n",
      "d:\\Github Repository\\Python\\venv\\Lib\\asyncio\\futures.py:418: size=200 B, count=5, average=40 B\n",
      "C:\\Users\\hp\\AppData\\Roaming\\Python\\Python312\\site-packages\\jupyter_client\\session.py:688: size=194 B, count=2, average=97 B\n",
      "C:\\Users\\hp\\AppData\\Roaming\\Python\\Python312\\site-packages\\tornado\\platform\\asyncio.py:235: size=192 B, count=3, average=64 B\n",
      "C:\\Users\\hp\\AppData\\Roaming\\Python\\Python312\\site-packages\\jupyter_client\\session.py:750: size=192 B, count=2, average=96 B\n",
      "C:\\Users\\hp\\AppData\\Roaming\\Python\\Python312\\site-packages\\zmq\\sugar\\socket.py:802: size=184 B, count=2, average=92 B\n",
      "C:\\Users\\hp\\AppData\\Roaming\\Python\\Python312\\site-packages\\IPython\\core\\history.py:805: size=180 B, count=4, average=45 B\n",
      "C:\\Users\\hp\\AppData\\Roaming\\Python\\Python312\\site-packages\\IPython\\core\\interactiveshell.py:3224: size=176 B, count=4, average=44 B\n",
      "C:\\Users\\hp\\AppData\\Roaming\\Python\\Python312\\site-packages\\ipykernel\\kernelbase.py:1182: size=173 B, count=2, average=86 B\n",
      "d:\\Github Repository\\Python\\venv\\Lib\\threading.py:969: size=160 B, count=1, average=160 B\n",
      "d:\\Github Repository\\Python\\venv\\Lib\\asyncio\\futures.py:387: size=160 B, count=1, average=160 B\n",
      "d:\\Github Repository\\Python\\venv\\Lib\\asyncio\\futures.py:381: size=160 B, count=1, average=160 B\n",
      "C:\\Users\\hp\\AppData\\Roaming\\Python\\Python312\\site-packages\\ipykernel\\kernelbase.py:570: size=160 B, count=1, average=160 B\n",
      "C:\\Users\\hp\\AppData\\Roaming\\Python\\Python312\\site-packages\\IPython\\core\\interactiveshell.py:3577: size=160 B, count=1, average=160 B\n",
      "C:\\Users\\hp\\AppData\\Roaming\\Python\\Python312\\site-packages\\IPython\\core\\interactiveshell.py:3493: size=160 B, count=1, average=160 B\n",
      "C:\\Users\\hp\\AppData\\Local\\Temp\\ipykernel_11252\\309850076.py:7: size=160 B, count=1, average=160 B\n",
      "C:\\Users\\hp\\AppData\\Local\\Temp\\ipykernel_11252\\309850076.py:4: size=160 B, count=1, average=160 B\n",
      "C:\\Users\\hp\\AppData\\Roaming\\Python\\Python312\\site-packages\\ipykernel\\iostream.py:722: size=144 B, count=2, average=72 B\n",
      "C:\\Users\\hp\\AppData\\Roaming\\Python\\Python312\\site-packages\\IPython\\core\\compilerop.py:171: size=144 B, count=2, average=72 B\n",
      "C:\\Users\\hp\\AppData\\Roaming\\Python\\Python312\\site-packages\\IPython\\core\\compilerop.py:172: size=140 B, count=5, average=28 B\n",
      "C:\\Users\\hp\\AppData\\Roaming\\Python\\Python312\\site-packages\\jupyter_client\\jsonutil.py:73: size=128 B, count=2, average=64 B\n",
      "d:\\Github Repository\\Python\\venv\\Lib\\threading.py:327: size=120 B, count=2, average=60 B\n",
      "d:\\Github Repository\\Python\\venv\\Lib\\threading.py:121: size=120 B, count=2, average=60 B\n",
      "C:\\Users\\hp\\AppData\\Roaming\\Python\\Python312\\site-packages\\traitlets\\traitlets.py:1540: size=120 B, count=2, average=60 B\n",
      "C:\\Users\\hp\\AppData\\Roaming\\Python\\Python312\\site-packages\\ipykernel\\kernelbase.py:318: size=120 B, count=2, average=60 B\n",
      "d:\\Github Repository\\Python\\venv\\Lib\\asyncio\\base_events.py:755: size=120 B, count=1, average=120 B\n",
      "C:\\Users\\hp\\AppData\\Roaming\\Python\\Python312\\site-packages\\zmq\\eventloop\\zmqstream.py:651: size=120 B, count=1, average=120 B\n",
      "d:\\Github Repository\\Python\\venv\\Lib\\tokenize.py:537: size=112 B, count=2, average=56 B\n",
      "C:\\Users\\hp\\AppData\\Roaming\\Python\\Python312\\site-packages\\jupyter_client\\session.py:989: size=111 B, count=2, average=56 B\n",
      "C:\\Users\\hp\\AppData\\Roaming\\Python\\Python312\\site-packages\\zmq\\sugar\\socket.py:751: size=96 B, count=2, average=48 B\n",
      "C:\\Users\\hp\\AppData\\Roaming\\Python\\Python312\\site-packages\\IPython\\core\\interactiveshell.py:3375: size=96 B, count=2, average=48 B\n",
      "d:\\Github Repository\\Python\\venv\\Lib\\warnings.py:189: size=96 B, count=1, average=96 B\n",
      "d:\\Github Repository\\Python\\venv\\Lib\\threading.py:1016: size=84 B, count=3, average=28 B\n",
      "d:\\Github Repository\\Python\\venv\\Lib\\fnmatch.py:46: size=80 B, count=1, average=80 B\n",
      "d:\\Github Repository\\Python\\venv\\Lib\\threading.py:271: size=72 B, count=1, average=72 B\n",
      "d:\\Github Repository\\Python\\venv\\Lib\\threading.py:267: size=72 B, count=1, average=72 B\n",
      "d:\\Github Repository\\Python\\venv\\Lib\\threading.py:262: size=72 B, count=1, average=72 B\n",
      "d:\\Github Repository\\Python\\venv\\Lib\\threading.py:261: size=72 B, count=1, average=72 B\n",
      "d:\\Github Repository\\Python\\venv\\Lib\\asyncio\\base_events.py:1935: size=64 B, count=2, average=32 B\n",
      "C:\\Users\\hp\\AppData\\Roaming\\Python\\Python312\\site-packages\\tornado\\queues.py:318: size=64 B, count=2, average=32 B\n",
      "C:\\Users\\hp\\AppData\\Roaming\\Python\\Python312\\site-packages\\IPython\\core\\interactiveshell.py:3509: size=64 B, count=2, average=32 B\n",
      "d:\\Github Repository\\Python\\venv\\Lib\\threading.py:631: size=64 B, count=1, average=64 B\n",
      "C:\\Users\\hp\\AppData\\Roaming\\Python\\Python312\\site-packages\\zmq\\sugar\\socket.py:806: size=64 B, count=1, average=64 B\n",
      "C:\\Users\\hp\\AppData\\Roaming\\Python\\Python312\\site-packages\\jupyter_client\\session.py:1053: size=64 B, count=1, average=64 B\n",
      "C:\\Users\\hp\\AppData\\Roaming\\Python\\Python312\\site-packages\\ipykernel\\kernelbase.py:69: size=64 B, count=1, average=64 B\n",
      "C:\\Users\\hp\\AppData\\Roaming\\Python\\Python312\\site-packages\\ipykernel\\ipkernel.py:384: size=64 B, count=1, average=64 B\n",
      "C:\\Users\\hp\\AppData\\Roaming\\Python\\Python312\\site-packages\\ipykernel\\ipkernel.py:383: size=64 B, count=1, average=64 B\n",
      "C:\\Users\\hp\\AppData\\Roaming\\Python\\Python312\\site-packages\\ipykernel\\ipkernel.py:294: size=64 B, count=1, average=64 B\n",
      "C:\\Users\\hp\\AppData\\Roaming\\Python\\Python312\\site-packages\\ipykernel\\ipkernel.py:291: size=64 B, count=1, average=64 B\n",
      "C:\\Users\\hp\\AppData\\Roaming\\Python\\Python312\\site-packages\\IPython\\core\\interactiveshell.py:3566: size=64 B, count=1, average=64 B\n",
      "C:\\Users\\hp\\AppData\\Roaming\\Python\\Python312\\site-packages\\IPython\\core\\interactiveshell.py:3303: size=64 B, count=1, average=64 B\n",
      "C:\\Users\\hp\\AppData\\Roaming\\Python\\Python312\\site-packages\\IPython\\core\\interactiveshell.py:3300: size=64 B, count=1, average=64 B\n",
      "C:\\Users\\hp\\AppData\\Roaming\\Python\\Python312\\site-packages\\IPython\\core\\completer.py:461: size=64 B, count=1, average=64 B\n",
      "d:\\Github Repository\\Python\\venv\\Lib\\selectors.py:323: size=56 B, count=1, average=56 B\n",
      "d:\\Github Repository\\Python\\venv\\Lib\\selectors.py:321: size=56 B, count=1, average=56 B\n",
      "d:\\Github Repository\\Python\\venv\\Lib\\fnmatch.py:52: size=56 B, count=1, average=56 B\n",
      "C:\\Users\\hp\\AppData\\Roaming\\Python\\Python312\\site-packages\\traitlets\\traitlets.py:1534: size=56 B, count=1, average=56 B\n",
      "C:\\Users\\hp\\AppData\\Roaming\\Python\\Python312\\site-packages\\IPython\\core\\interactiveshell.py:3498: size=56 B, count=1, average=56 B\n",
      "C:\\Users\\hp\\AppData\\Roaming\\Python\\Python312\\site-packages\\IPython\\core\\interactiveshell.py:3483: size=56 B, count=1, average=56 B\n",
      "C:\\Users\\hp\\AppData\\Roaming\\Python\\Python312\\site-packages\\IPython\\core\\completer.py:1121: size=56 B, count=1, average=56 B\n",
      "d:\\Github Repository\\Python\\venv\\Lib\\fnmatch.py:185: size=52 B, count=1, average=52 B\n",
      "d:\\Github Repository\\Python\\venv\\Lib\\tracemalloc.py:207: size=48 B, count=1, average=48 B\n",
      "d:\\Github Repository\\Python\\venv\\Lib\\enum.py:1536: size=48 B, count=1, average=48 B\n",
      "d:\\Github Repository\\Python\\venv\\Lib\\concurrent\\futures\\_base.py:330: size=48 B, count=1, average=48 B\n",
      "C:\\Users\\hp\\AppData\\Roaming\\Python\\Python312\\site-packages\\zmq\\eventloop\\zmqstream.py:639: size=48 B, count=1, average=48 B\n",
      "C:\\Users\\hp\\AppData\\Roaming\\Python\\Python312\\site-packages\\tornado\\concurrent.py:193: size=48 B, count=1, average=48 B\n",
      "C:\\Users\\hp\\AppData\\Roaming\\Python\\Python312\\site-packages\\jupyter_client\\session.py:200: size=48 B, count=1, average=48 B\n",
      "C:\\Users\\hp\\AppData\\Roaming\\Python\\Python312\\site-packages\\ipykernel\\ipkernel.py:449: size=48 B, count=1, average=48 B\n",
      "C:\\Users\\hp\\AppData\\Roaming\\Python\\Python312\\site-packages\\IPython\\core\\interactiveshell.py:3505: size=48 B, count=1, average=48 B\n",
      "C:\\Users\\hp\\AppData\\Local\\Temp\\ipykernel_11252\\2365404.py:15: size=48 B, count=1, average=48 B\n",
      "C:\\Users\\hp\\AppData\\Roaming\\Python\\Python312\\site-packages\\zmq\\sugar\\attrsettr.py:29: size=47 B, count=1, average=47 B\n",
      "C:\\Users\\hp\\AppData\\Roaming\\Python\\Python312\\site-packages\\IPython\\core\\prefilter.py:317: size=47 B, count=1, average=47 B\n",
      "C:\\Users\\hp\\AppData\\Roaming\\Python\\Python312\\site-packages\\IPython\\core\\async_helpers.py:150: size=45 B, count=1, average=45 B\n",
      "<frozen ntpath>:66: size=44 B, count=1, average=44 B\n",
      "d:\\Github Repository\\Python\\venv\\Lib\\queue.py:151: size=32 B, count=1, average=32 B\n",
      "d:\\Github Repository\\Python\\venv\\Lib\\concurrent\\futures\\_base.py:421: size=32 B, count=1, average=32 B\n",
      "d:\\Github Repository\\Python\\venv\\Lib\\asyncio\\base_events.py:758: size=32 B, count=1, average=32 B\n",
      "C:\\Users\\hp\\AppData\\Roaming\\Python\\Python312\\site-packages\\jupyter_client\\session.py:996: size=32 B, count=1, average=32 B\n",
      "C:\\Users\\hp\\AppData\\Roaming\\Python\\Python312\\site-packages\\jupyter_client\\session.py:603: size=32 B, count=1, average=32 B\n",
      "C:\\Users\\hp\\AppData\\Roaming\\Python\\Python312\\site-packages\\ipykernel\\iostream.py:637: size=32 B, count=1, average=32 B\n",
      "C:\\Users\\hp\\AppData\\Roaming\\Python\\Python312\\site-packages\\ipykernel\\iostream.py:168: size=32 B, count=1, average=32 B\n",
      "C:\\Users\\hp\\AppData\\Roaming\\Python\\Python312\\site-packages\\IPython\\core\\interactiveshell.py:3503: size=32 B, count=1, average=32 B\n",
      "C:\\Users\\hp\\AppData\\Roaming\\Python\\Python312\\site-packages\\IPython\\core\\history.py:793: size=32 B, count=1, average=32 B\n",
      "C:\\Users\\hp\\AppData\\Roaming\\Python\\Python312\\site-packages\\IPython\\core\\completer.py:2888: size=32 B, count=1, average=32 B\n",
      "C:\\Users\\hp\\AppData\\Roaming\\Python\\Python312\\site-packages\\IPython\\core\\completer.py:882: size=32 B, count=1, average=32 B\n",
      "C:\\Users\\hp\\AppData\\Roaming\\Python\\Python312\\site-packages\\IPython\\core\\compilerop.py:192: size=32 B, count=1, average=32 B\n",
      "C:\\Users\\hp\\AppData\\Roaming\\Python\\Python312\\site-packages\\ipykernel\\kernelbase.py:560: size=28 B, count=1, average=28 B\n",
      "C:\\Users\\hp\\AppData\\Roaming\\Python\\Python312\\site-packages\\IPython\\core\\interactiveshell.py:3485: size=8 B, count=1, average=8 B\n"
     ]
    }
   ],
   "source": [
    "main()"
   ]
  },
  {
   "cell_type": "code",
   "execution_count": null,
   "metadata": {},
   "outputs": [],
   "source": []
  }
 ],
 "metadata": {
  "kernelspec": {
   "display_name": "Python 3",
   "language": "python",
   "name": "python3"
  },
  "language_info": {
   "codemirror_mode": {
    "name": "ipython",
    "version": 3
   },
   "file_extension": ".py",
   "mimetype": "text/x-python",
   "name": "python",
   "nbconvert_exporter": "python",
   "pygments_lexer": "ipython3",
   "version": "3.12.0"
  }
 },
 "nbformat": 4,
 "nbformat_minor": 2
}
